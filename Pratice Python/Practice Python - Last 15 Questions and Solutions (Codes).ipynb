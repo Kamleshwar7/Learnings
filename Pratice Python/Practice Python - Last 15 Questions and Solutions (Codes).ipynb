{
 "cells": [
  {
   "cell_type": "markdown",
   "metadata": {
    "id": "yUxyOInWKfuq"
   },
   "source": [
    "#Practice Python Exercises\n",
    "*Ref: https://www.practicepython.org/*\n"
   ]
  },
  {
   "cell_type": "markdown",
   "metadata": {
    "id": "OaLWttA2Jsm8"
   },
   "source": [
    "#### Q25. User will have in your head a number between 0 and 100. The program will guess a number, and you, the user, will say whether it is too high, too low, or your number.\n",
    "\n",
    "#### At the end of this exchange, your program should print out how many guesses it took to get your number.\n",
    "\n",
    "#### Note: The program needs an optimal guessing strategy. An alternate strategy might be to guess 50 (right in the middle of the range), and then increase / decrease by 1 as needed. After you’ve written the program, try to find the optimal strategy! (We’ll talk about what is the optimal one next week with the solution.)"
   ]
  },
  {
   "cell_type": "code",
   "execution_count": null,
   "metadata": {
    "id": "xwlShMf4JsaF"
   },
   "outputs": [],
   "source": [
    "# binary search to check how many guesses is required by the computer to find the number\n",
    "def binary_search():\n",
    "  user_num = int(input(\"Choose a num between 0 to 100:\"))\n",
    "  num_list = [i for i in range(0,101)]\n",
    "  \n",
    "  lower_index, upper_index = 0, len(num_list)-1\n",
    "  guess_count = 0\n",
    "  while lower_index <= upper_index:\n",
    "\n",
    "    mid_index = (lower_index + upper_index) // 2\n",
    "    mid_value = num_list[mid_index]\n",
    "\n",
    "    guess_count += 1\n",
    "\n",
    "    if user_num == mid_value:\n",
    "      return user_num, guess_count\n",
    "    elif user_num < mid_value:\n",
    "      upper_index = mid_index - 1\n",
    "    else:\n",
    "      lower_index = mid_index + 1\n",
    "    \n",
    "\n",
    "print(\"The computer took\", binary_search()[1], \"guesses to find your number\")"
   ]
  },
  {
   "cell_type": "markdown",
   "metadata": {
    "id": "gQ2x41S2XUrw"
   },
   "source": [
    "#### Q26. If a game of Tic Tac Toe is represented as a list of lists, like so:\n",
    "#### game = [[1, 2, 0],\n",
    "####        [2, 1, 0],\n",
    "####\t      [2, 1, 1]]\n",
    "#### where a 0 = empty square, a 1 = player 1 put their token in that space, and a 2 = player 2 put their token in that space.\n",
    "\n",
    "#### Given a 3 by 3 list of lists, tell me whether anyone has won, and tell me which player won, if any. A Tic Tac Toe win is 3 in a row - either in a row, a column, or a diagonal. Assume that in every board there will only be one winner."
   ]
  },
  {
   "cell_type": "code",
   "execution_count": null,
   "metadata": {
    "id": "pwSJAXRXdO4f"
   },
   "outputs": [],
   "source": [
    "# checking rows\n",
    "def row_match(game):\n",
    "  for rows in game:\n",
    "    if len(set(rows)) == 1:\n",
    "      return rows[0]\n",
    "  else:\n",
    "    return None\n",
    "\n",
    "# checking columns\n",
    "def col_match(game):\n",
    "  rows, cols = 0,0\n",
    "  while cols <= 2:\n",
    "    if game[rows][cols] == game[rows+1][cols] == game[rows+2][cols]:\n",
    "      return game[rows][cols]\n",
    "    cols += 1\n",
    "  else:\n",
    "    return None\n",
    "\n",
    "# checking diagonals\n",
    "def diag_match(game):\n",
    "  if len(set([game[i][i] for i in range(len(game))])) == 1:\n",
    "        return game[0][0]\n",
    "  elif len(set([game[i][len(game)-i-1] for i in range(len(game))])) == 1:\n",
    "        return game[0][len(game)-1]\n",
    "  else:\n",
    "    return None\n",
    "\n",
    "\n",
    "# winning games\n",
    "winner_1 = [[1, 2, 0],\n",
    "\t          [2, 1, 0],\n",
    "\t          [2, 1, 1]]\n",
    "\n",
    "winner_2 = [[2, 2, 0],\n",
    "\t          [2, 1, 0],\n",
    "\t          [2, 1, 1]]\n",
    "\n",
    "winner_1_also = [[0, 1, 0],\n",
    "\t               [2, 1, 0],\n",
    "\t               [2, 1, 1]]\n",
    "\n",
    "# drawing games\n",
    "draw = [[1, 1, 0],\n",
    "\t      [0, 2, 1],\n",
    "\t      [1, 1, 2]]\n",
    "\n",
    "also_draw = [[1, 2, 0],\n",
    "\t           [2, 1, 0],\n",
    "\t           [2, 1, 0]]\n",
    "\n",
    "also2_draw = [[1, 2, 0],\n",
    "\t            [2, 1, 0],\n",
    "\t            [2, 1, 2]]\n",
    "\n",
    "def check_game(game):\n",
    "  if col_match(game) != None and col_match(game) != 0:\n",
    "    print(\"Player {} is the winner !\".format(col_match(game)))\n",
    "  elif row_match(game) != None and row_match(game) != 0:\n",
    "    print(\"Player {} is the winner !\".format(row_match(game)))\n",
    "  elif diag_match(game) != None:\n",
    "    print(\"Player {} is the winner !\".format(diag_match(game)))\n",
    "  else:\n",
    "    print(\"Its a draw ! There is no winner :(\")\n",
    "\n",
    "check_game(winner_1)"
   ]
  },
  {
   "cell_type": "markdown",
   "metadata": {
    "id": "1kb258TmZ1Mg"
   },
   "source": [
    "#### Q27 & Q29. Tic-tac-toe\n",
    "\n",
    "- For this exercise, assume that player 1 (the first player to move) will always be X and player 2 (the second player) will always be O.\n",
    "\n",
    "- Coordinates starting from (1, 1) instead of (0, 0).\n",
    "\n",
    "- Ask the user to enter coordinates in the form “row,col” - a number, then a comma, then a number. \n",
    "\n",
    "- Don’t worry about checking whether someone won the game, but if a player tries to put a piece in a game position where there already is another piece, do not allow the piece to go there.\n",
    "\n",
    "- Keep track of how many squares are full and automatically stop asking for moves when there are no more valid moves."
   ]
  },
  {
   "cell_type": "code",
   "execution_count": null,
   "metadata": {
    "id": "onhKhZahaLH9"
   },
   "outputs": [],
   "source": [
    "game = [[0, 0, 0],\n",
    "\t      [0, 0, 0],\n",
    "\t      [0, 0, 0]]\n",
    "\n",
    "# checking rows\n",
    "def row_match(game):\n",
    "  for rows in game:\n",
    "    if len(set(rows)) == 1:\n",
    "      return rows[0]\n",
    "  else:\n",
    "    return None\n",
    "\n",
    "# checking columns\n",
    "def col_match(game):\n",
    "  rows, cols = 0,0\n",
    "  while cols <= 2:\n",
    "    if game[rows][cols] == game[rows+1][cols] == game[rows+2][cols]:\n",
    "      return game[rows][cols]\n",
    "    cols += 1\n",
    "  else:\n",
    "    return None\n",
    "\n",
    "# checking diagonals\n",
    "def diag_match(game):\n",
    "  if len(set([game[i][i] for i in range(len(game))])) == 1:\n",
    "        return game[0][0]\n",
    "  elif len(set([game[i][len(game)-i-1] for i in range(len(game))])) == 1:\n",
    "        return game[0][len(game)-1]\n",
    "  else:\n",
    "    return None\n",
    "\n",
    "# checking for a winner on the board\n",
    "def check_game(game):\n",
    "  if col_match(game) != None and col_match(game) != 0:\n",
    "    return col_match(game)\n",
    "  elif row_match(game) != None and row_match(game) != 0:\n",
    "    return row_match(game)\n",
    "  elif diag_match(game) != None:\n",
    "    return diag_match(game)\n",
    "  else:\n",
    "    return False\n",
    "\n",
    "def player_move(player_mark, game):\n",
    "  x_coord, y_coord = [int(i) for i in input(\"Enter the coordinates: \").split(\",\")]\n",
    "  x_index, y_index = x_coord-1, y_coord-1\n",
    "  if game[x_index][y_index] == 0:\n",
    "    game[x_index][y_index] = player_mark\n",
    "  else:\n",
    "    print(\"This square is occupied :( Try another square\")\n",
    "    player_move(player_mark, game)\n",
    "\n",
    "print(\"Welcome to Tic-Tac-Toe !!! \")\n",
    "print(\"Player 1 starts first and plays with X while Player 2 plays with O\")\n",
    "\n",
    "spaces = 9\n",
    "player_number = 1\n",
    "continue_game = 'y'\n",
    "player1_count = 0\n",
    "player2_count = 0\n",
    "\n",
    "while continue_game == 'y':\n",
    "\n",
    "  while spaces >= 0:\n",
    "    \n",
    "    if check_game(game) == False:\n",
    "      \n",
    "      if player_number == 1:\n",
    "        print(\"Player {}'s turn\".format(player_number))\n",
    "        player_move('X', game)\n",
    "        player_number += 1\n",
    "      elif player_number == 2:\n",
    "        print(\"Player {}'s turn\".format(player_number))\n",
    "        player_move('O', game)\n",
    "        player_number -= 1\n",
    "      else:\n",
    "        player_number = player_number\n",
    "      \n",
    "      spaces = sum([rows.count(0) for rows in game])\n",
    "      #print(\"There are {} spaces left\".format(spaces))\n",
    "      spaces -= 1\n",
    "      \n",
    "      for row in game:\n",
    "        print('| ' + ' '.join(str(place).replace(\"0\", \" \") + ' |' for place in row))\n",
    "        print(\" --- --- --- \")\n",
    "\n",
    "    elif check_game(game) == 'X':\n",
    "      print(\"Player 1 is the winner !\")\n",
    "      player1_count += 1\n",
    "      break\n",
    "\n",
    "    elif check_game(game) == 'O':\n",
    "      print(\"Player 2 is the winner !\")\n",
    "      player2_count += 2\n",
    "      break\n",
    "\n",
    "  print(\"There are no moves left !\")\n",
    "  continue_game = input(\"Do you wish to continue? y/n\")\n",
    "  if continue_game == 'n':\n",
    "    print(\"Player 1 won {} games and Player 2 won {} games\".format(player1_count, player2_count))\n",
    "    break"
   ]
  },
  {
   "cell_type": "markdown",
   "metadata": {
    "id": "elCZGFUfnOit"
   },
   "source": [
    "#### Q28. Implement a function that takes as input three variables, and returns the largest of the three. Do this without using the Python max() function!"
   ]
  },
  {
   "cell_type": "code",
   "execution_count": null,
   "metadata": {
    "id": "0ppOC-YWbhsn"
   },
   "outputs": [],
   "source": [
    "def max_num(num1, num2, num3):\n",
    "  if num1 > num2 and num1 > num3:\n",
    "    return num1\n",
    "  elif num2 > num1 and num2 > num3:\n",
    "    return num2\n",
    "  elif num3 > num1 and num3 > num2:\n",
    "    return num3\n",
    "  elif num1 == num2 == num3:\n",
    "    return num1\n",
    "  else:\n",
    "    num_list = [num1, num2, num3]\n",
    "    for num in num_list:\n",
    "      if num_list.count(num) == 2:\n",
    "        return num\n",
    "    \n",
    "max_num(2,1,2)"
   ]
  },
  {
   "cell_type": "markdown",
   "metadata": {
    "id": "40H2iFK5qlbI"
   },
   "source": [
    "#### Q30. Hangman (part 1/3): Pick a random word from a list of words from the SOWPODS dictionary i.e. hangman_words.txt file"
   ]
  },
  {
   "cell_type": "code",
   "execution_count": null,
   "metadata": {
    "id": "CN9ipbAp6dSA"
   },
   "outputs": [],
   "source": [
    "import random\n",
    "with open('hangman_words.txt', 'r') as open_file:\n",
    "    raw_words = open_file.readlines()\n",
    "\n",
    "all_words = [words.replace('\\n','') for words in raw_words]\n",
    "random_word = random.choice(all_words)"
   ]
  },
  {
   "cell_type": "markdown",
   "metadata": {
    "id": "ibIGXNzQsQ-A"
   },
   "source": [
    "#### Q31. Hangman (part 2/3): Write the logic that asks a player to guess a letter and displays letters in the clue word that were guessed correctly. For now, let the player guess an infinite number of times until they get the entire word. As a bonus, keep track of the letters the player guessed and display a different message if the player tries to guess that letter again. Stop the game when all the letters have been guessed correctly."
   ]
  },
  {
   "cell_type": "code",
   "execution_count": null,
   "metadata": {
    "id": "CtTxF0tX9uYb"
   },
   "outputs": [],
   "source": [
    "guessed_letters = []\n",
    "correct_letters = []\n",
    "\n",
    "def guess_word(word):\n",
    "  spaces = '_'*len(word)\n",
    "\n",
    "  while spaces != word:\n",
    "    guess = input(\"Guess your letter: \").upper()\n",
    "\n",
    "    if guess in guessed_letters:\n",
    "      print(\"This letter has already been guessed ! Try a different one \")\n",
    "    \n",
    "    elif guess in word:\n",
    "      correct_letters.append(guess)\n",
    "\n",
    "      for i in range(len(word)):\n",
    "        if word[i] in correct_letters:\n",
    "          spaces = spaces[:i] + word[i] + spaces[i+1:]\n",
    "\n",
    "    else:\n",
    "      print(\"Incorrect letter :( Please try again !\")\n",
    "    \n",
    "    guessed_letters.append(guess)\n",
    "    print(\" \".join(spaces))\n",
    "\n",
    "  print(\"Congrats, you've guessed it correctly !\")\n",
    "  print(\"Number of Guesses: \", len(guessed_letters))\n",
    "  print(\"Your guesses: \", guessed_letters)\n",
    "\n",
    "\n",
    "random_word = random.choice(all_words)\n",
    "print(\"Welcome to HANGMAN\")\n",
    "print('_ '*len(random_word))\n",
    "print(random_word)\n",
    "guess_word(random_word)"
   ]
  },
  {
   "cell_type": "markdown",
   "metadata": {
    "id": "VCGOcolPEsyS"
   },
   "source": [
    "#### Q32. Hangman (part 3/3): Real Hangman game:\n",
    "\n",
    "- Only let the user guess 6 times, and tell the user how many guesses they have left.\n",
    "\n",
    "- Keep track of the letters the user guessed. If the user guesses a letter they already guessed, don’t penalize them - let them guess again\n",
    "\n",
    "- When the player wins or loses, let them start a new game."
   ]
  },
  {
   "cell_type": "code",
   "execution_count": null,
   "metadata": {
    "id": "RVDiTW3RyXLb"
   },
   "outputs": [],
   "source": [
    "import random\n",
    "with open('hangman_words.txt', 'r') as open_file:\n",
    "    raw_words = open_file.readlines()\n",
    "\n",
    "all_words = [words.replace('\\n','') for words in raw_words]\n",
    "\n",
    "# function for guessing the word\n",
    "def guess_word(word):\n",
    "  guessed_letters = []\n",
    "  correct_letters = []\n",
    "\n",
    "  spaces = '_'*len(word)\n",
    "  incorrect_count = 6\n",
    "\n",
    "  while incorrect_count >= 1:\n",
    "    \n",
    "    guess = input(\"\\nGuess your letter: \").upper()\n",
    "\n",
    "    if guess in guessed_letters:\n",
    "      print(\"This letter has already been guessed ! Try a different one \")\n",
    "    \n",
    "    elif guess in word:\n",
    "      correct_letters.append(guess)\n",
    "\n",
    "      for i in range(len(word)):\n",
    "        if word[i] in correct_letters:\n",
    "          spaces = spaces[:i] + word[i] + spaces[i+1:]\n",
    "      \n",
    "      if spaces == word:\n",
    "        break\n",
    "\n",
    "    else:\n",
    "      incorrect_count -= 1\n",
    "      print(\"Incorrect letter :( Please try again !\")\n",
    "  \n",
    "    guessed_letters.append(guess)\n",
    "    if incorrect_count == 0:\n",
    "      break\n",
    "    print(\"\\nYou have {} incorrect guesses left !\".format(incorrect_count))\n",
    "  \n",
    "    print(\" \".join(spaces))\n",
    "  return spaces\n",
    "\n",
    "quit = 'n'\n",
    "\n",
    "while quit == 'n':\n",
    "  random_word = random.choice(all_words)\n",
    "\n",
    "  print(\"\\nWelcome to HANGMAN\")\n",
    "  print('_ '*len(random_word))\n",
    "  print(random_word)\n",
    "\n",
    "  if guess_word(random_word) == random_word:\n",
    "    print(\"Congrats you guessed the word {} !\".format(random_word))\n",
    "  else:\n",
    "    print(\"Whoops :( You've exhausted your attempts !\")\n",
    "    print(\"The word was: \", random_word)\n",
    "  \n",
    "  quit = input(\"\\nDo you want to quit Hangman ? (y/n): \\n\")\n",
    "  if quit == 'y':\n",
    "    break"
   ]
  },
  {
   "cell_type": "code",
   "execution_count": null,
   "metadata": {
    "id": "9cZNwc1pKQ3M"
   },
   "outputs": [],
   "source": [
    "# # side project: Takes a word, and returns the index values of the characters in the string\n",
    "# word = 'ABBCA'\n",
    "# guess_list = ['A', 'B', 'C', 'D']\n",
    "# # create a dictionary to store the correct letters and their index value(s) in the word\n",
    "# guess_dict = {} # {'character': [index]}\n",
    "\n",
    "# for guess in guess_list:\n",
    "#   guess_dict[guess] = [index for index in range(len(word)) if word.startswith(guess, index)]\n",
    "\n",
    "# print(guess_dict)"
   ]
  },
  {
   "cell_type": "markdown",
   "metadata": {
    "id": "Q99qX7zj4u7A"
   },
   "source": [
    "#### Q33: Birthday Data (part 1/4): Create a dictionary of names and birthdays. Print the names in the dictionary first and then ask the user to enter a name; then return the birthday of that person back to them"
   ]
  },
  {
   "cell_type": "code",
   "execution_count": 24,
   "metadata": {
    "id": "F4MrSFKR4un-"
   },
   "outputs": [
    {
     "name": "stdout",
     "output_type": "stream",
     "text": [
      "We know the birthdays of :\n",
      "A B C D E \n",
      "Who's birthday do you want to look up?\n",
      "c\n",
      "C's birthday is 23/02/1970\n"
     ]
    }
   ],
   "source": [
    "bday_dict = {\n",
    "    \"A\": '01/07/1987',\n",
    "    \"B\": '04/08/2007',\n",
    "    \"C\": '23/02/1970',\n",
    "    \"D\": '19/11/2023',\n",
    "    \"E\": '30/01/1990'\n",
    "}\n",
    "\n",
    "print(\"We know the birthdays of :\")\n",
    "for name in bday_dict:\n",
    "    print(name, end=' ')\n",
    "\n",
    "bday_name = input(\"\\nWho's birthday do you want to look up?\\n\")\n",
    "print(\"{}'s birthday is {}\".format(bday_name.upper(), bday_dict[bday_name.upper()]))"
   ]
  },
  {
   "cell_type": "markdown",
   "metadata": {
    "id": "TgOB1sUzBiHN"
   },
   "source": [
    "#### Q34. Birthday Data (part 2/4): Load the birthday dictionary from a JSON file on disk. Ask the user for another scientist’s name and birthday to add to the dictionary, and update the JSON file you have on disk with the scientist’s name. If you run the program multiple times and keep adding new names, your JSON file should keep getting bigger and bigger."
   ]
  },
  {
   "cell_type": "code",
   "execution_count": null,
   "metadata": {
    "id": "wWyOZG09tK7n"
   },
   "outputs": [],
   "source": [
    "import json\n",
    "\n",
    "def save_as_json(json_name, dict_name):\n",
    "  # specify file name to be saved as...\n",
    "  with open(json_name, \"w\") as f:\n",
    "    json.dump(dict_name, f)\n",
    "\n",
    "# Note: JSON won’t remember the name of the variable you saved your dictionary in\n",
    "\n",
    "def load_json(json_name):\n",
    "  with open(json_name, \"r\") as f:\n",
    "    info = json.load(f)\n",
    "  return info\n",
    "\n",
    "# json file\n",
    "json_name = \"bday_database.json\"\n",
    "\n",
    "add_name = 'y'\n",
    "\n",
    "while add_name == 'y':\n",
    "  \n",
    "  print(\"Birthday Database: \")\n",
    "  print(json.dumps(load_json(json_name), indent=2))\n",
    "\n",
    "  add_name = input(\"Do you wish to add a new name (y/n)?\")\n",
    "  if add_name == 'n':\n",
    "    break\n",
    "  \n",
    "  bday_dict = load_json(json_name) # returns the dict\n",
    "\n",
    "  new_name = input(\"Enter a name: \\n\")\n",
    "  bday = input(\"Enter age in the form dd/mm/yyyy (with slashes): \\n\")\n",
    "  bday_dict[new_name] = bday\n",
    "\n",
    "  save_as_json(json_name,bday_dict)"
   ]
  },
  {
   "cell_type": "markdown",
   "metadata": {
    "id": "EWHiTrtTKr6L"
   },
   "source": [
    "#### Q35: Birthday Data (part 3/4): Load that JSON file from disk, extract the months of all the birthdays, and count how many scientists have a birthday in each month (Hint: Import counter module from collections library)"
   ]
  },
  {
   "cell_type": "code",
   "execution_count": null,
   "metadata": {
    "id": "ejEW-Wp1DOme"
   },
   "outputs": [],
   "source": [
    "from collections import Counter\n",
    "\n",
    "# json file\n",
    "json_name = \"bday_database.json\"\n",
    "\n",
    "# month names\n",
    "months = ['Jan', 'Feb', 'March', 'April', 'May', 'June', 'July', 'Aug', 'Sep', 'Oct', 'Nov', 'Dec']\n",
    "\n",
    "# store the dict\n",
    "bday_dict = load_json(json_name)\n",
    "\n",
    "def get_months(dict_name):\n",
    "  # gets the birthdates from the dictionary\n",
    "  date_list = [dict_name[name] for name in dict_name]\n",
    "\n",
    "  # gets the month numbers from the dates\n",
    "  month_num_list = [int(date.split('/')[1]) for date in date_list]\n",
    "\n",
    "  # converts month numbers to month names\n",
    "  month_name_list = [months[month_num-1] for month_num in month_num_list]\n",
    "\n",
    "  return month_name_list\n",
    "\n",
    "num_of_bdays_per_month = dict(Counter(get_months(bday_dict)))\n",
    "print(num_of_bdays_per_month)"
   ]
  },
  {
   "cell_type": "markdown",
   "metadata": {
    "id": "QUEUDO17UDOq"
   },
   "source": [
    "#### Q36. Birthday Data (part 4/4): Use the bokeh Python library to plot a histogram of which months the scientists have birthdays in "
   ]
  },
  {
   "cell_type": "code",
   "execution_count": null,
   "metadata": {
    "id": "0j3Y1hcnNFTR"
   },
   "outputs": [],
   "source": [
    "import bokeh.io\n",
    "from bokeh.plotting import figure, show, output_file\n",
    "\n",
    "# Enable viewing Bokeh plots in the notebook\n",
    "bokeh.io.output_notebook()\n",
    "\n",
    "def bokeh_hist_plot(data_dict):\n",
    "  html_file = input(\"Output Filename: \\n\") + \".html\"\n",
    "\n",
    "  # specify an output file\n",
    "  output_file(html_file)\n",
    "\n",
    "  # load our x (keys in the dict) and y (corresponding values in the dict) data\n",
    "  x = [month for month in data_dict]\n",
    "  y = [data_dict[month] for month in data_dict]\n",
    "\n",
    "  # create a figure\n",
    "  months = ['Jan', 'Feb', 'March', 'April', 'May', 'June', 'July', 'Aug', 'Sep', 'Oct', 'Nov', 'Dec']\n",
    "  p = figure(x_range=months)\n",
    "\n",
    "  # create a histogram\n",
    "  p.vbar(x=x, top=y, width=0.5)\n",
    "\n",
    "  # render (show) the plot\n",
    "  show(p)\n",
    "\n",
    "bokeh_hist_plot(num_of_bdays_per_month)"
   ]
  },
  {
   "cell_type": "markdown",
   "metadata": {
    "id": "aRwydP5OYxKI"
   },
   "source": [
    "#### Q37. Refactor the following print pattern using functions where generating an 8x8 or a 19x19 grid is a single change to a function call!"
   ]
  },
  {
   "cell_type": "code",
   "execution_count": null,
   "metadata": {
    "id": "0dfEryHtPLvq"
   },
   "outputs": [],
   "source": [
    "# print(\" --- --- ---\")\n",
    "# print(\"|   |   |   |\")\n",
    "# print(\" --- --- ---\")\n",
    "# print(\"|   |   |   |\")\n",
    "# print(\" --- --- ---\")\n",
    "# print(\"|   |   |   |\")\n",
    "# print(\" --- --- ---\")\n",
    "\n",
    "def draw_pattern(rows):\n",
    "    pattern = \"\"\n",
    "    for i in range(2*rows+1):\n",
    "        # switch between printing vertical and horizontal bars\n",
    "        if i % 2 == 0:\n",
    "            pattern += \" ---\" * (rows)\n",
    "        else:\n",
    "            pattern += \"|   \" * (rows+1)\n",
    "        pattern += \"\\n\"\n",
    "\n",
    "    print(pattern)\n",
    "\n",
    "draw_pattern(3)"
   ]
  },
  {
   "cell_type": "markdown",
   "metadata": {
    "id": "hOh67u3Waw6Q"
   },
   "source": [
    "#### Q38. Create a program that asks the user to enter their name and their age. Print out a message addressed to them that tells them the year that they will turn 100 years old ----> except use f-strings instead of the + operator to print the resulting output message"
   ]
  },
  {
   "cell_type": "code",
   "execution_count": null,
   "metadata": {
    "id": "kBrtdsUSaDBb"
   },
   "outputs": [],
   "source": [
    "from datetime import date\n",
    "\n",
    "current_year = date.today().year\n",
    "\n",
    "name = input(\"Enter your name:\\n\")\n",
    "age = int(input(\"Enter your age:\\n\"))\n",
    "\n",
    "print(f\"{name} you will turn 100 years old in {current_year + (100-age)} !\")\n",
    "\n",
    "\n",
    "\n",
    "\n"
   ]
  },
  {
   "cell_type": "code",
   "execution_count": null,
   "metadata": {},
   "outputs": [],
   "source": []
  }
 ],
 "metadata": {
  "colab": {
   "collapsed_sections": [],
   "name": "practicepython_kamlesh",
   "provenance": []
  },
  "kernelspec": {
   "display_name": "Python 3 (ipykernel)",
   "language": "python",
   "name": "python3"
  },
  "language_info": {
   "codemirror_mode": {
    "name": "ipython",
    "version": 3
   },
   "file_extension": ".py",
   "mimetype": "text/x-python",
   "name": "python",
   "nbconvert_exporter": "python",
   "pygments_lexer": "ipython3",
   "version": "3.9.7"
  }
 },
 "nbformat": 4,
 "nbformat_minor": 1
}
