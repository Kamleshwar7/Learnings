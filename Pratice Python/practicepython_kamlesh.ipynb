{
 "cells": [
  {
   "cell_type": "markdown",
   "metadata": {
    "id": "yUxyOInWKfuq"
   },
   "source": [
    "#Practice Python Exercises\n",
    "*Ref: https://www.practicepython.org/*\n"
   ]
  },
  {
   "cell_type": "markdown",
   "metadata": {
    "id": "gUFj78vPLFKc"
   },
   "source": [
    "####Q1. and Q39. Create a program that asks the user to enter their name and their age. Print out a message addressed to them that tells them the year that they will turn 100 years old"
   ]
  },
  {
   "cell_type": "code",
   "execution_count": null,
   "metadata": {
    "id": "WrS__Ve_KYJ6"
   },
   "outputs": [],
   "source": [
    "from datetime import date\n",
    "\n",
    "name =  input(\"Enter your name:\")\n",
    "age =  int(input(\"Enter your age:\"))\n",
    "\n",
    "century_year = date.today().year + (100 - age)\n",
    "\n",
    "print(name,\"you will turn 100 years old in\", century_year)"
   ]
  },
  {
   "cell_type": "code",
   "execution_count": null,
   "metadata": {
    "id": "BuAZOY0ZLqMS"
   },
   "outputs": [],
   "source": [
    "num = int(input(\"Enter a num:\"))\n",
    "print(\"hey\\n\"*num)"
   ]
  },
  {
   "cell_type": "markdown",
   "metadata": {
    "id": "z543kHq1Nze_"
   },
   "source": [
    "####Q2. Ask the user for a number. Depending on whether the number is even or odd, print out an appropriate message to the user. Hint: how does an even / odd number react differently when divided by 2?\n",
    "\n",
    "####**Extras**:\n",
    "####If the number is a multiple of 4, print out a different message. Ask the user for two numbers: one number to check (call it num) and one number to divide by (check). If check divides evenly into num, tell that to the user. If not, print a different appropriate message "
   ]
  },
  {
   "cell_type": "code",
   "execution_count": null,
   "metadata": {
    "id": "EM3WpQkgM9UV"
   },
   "outputs": [],
   "source": [
    "num = int(input(\"Enter a num:\"))\n",
    "\n",
    "if num % 2 == 0:\n",
    "  print(num, \"is even\")\n",
    "  if num % 4 == 0:\n",
    "    print(num, \"is a multiple of 2 and 4\")\n",
    "else:\n",
    "  print(num, \"is odd\")"
   ]
  },
  {
   "cell_type": "code",
   "execution_count": null,
   "metadata": {
    "id": "vcFpYeZXPJcG"
   },
   "outputs": [],
   "source": [
    "num = int(input(\"Enter a num:\"))\n",
    "check = int(input(\"Enter a number to divide by:\"))\n",
    "\n",
    "if num % check == 0:\n",
    "  print(num, \"is perfectly divisible by\", check)\n",
    "else:\n",
    "  print(num, \"is not perfectly divisible by\", check)"
   ]
  },
  {
   "cell_type": "markdown",
   "metadata": {
    "id": "jOpztLSmPv8O"
   },
   "source": [
    "####Q3: Take a list and write a program that prints out all the elements of the list that are less than 5.\n",
    "\n",
    "####**Extras:**\n",
    "\n",
    "####Instead of printing the elements one by one, make a new list that has all the elements less than 5 from this list in it and print out this new list. Write this in one line of Python. Ask the user for a number and return a list that contains only elements from the original list a that are smaller than that number given by the user."
   ]
  },
  {
   "cell_type": "code",
   "execution_count": null,
   "metadata": {
    "id": "8TV7UV4KPlQJ"
   },
   "outputs": [],
   "source": [
    "num_list = [1, 1, 2, 3, 5, 8, 13, 21, 34, 55, 89]\n",
    "nums_less_than_5 = []\n",
    "\n",
    "for nums in num_list:\n",
    "  if nums < 5:\n",
    "    nums_less_than_5.append(nums)\n",
    "print(nums_less_than_5)"
   ]
  },
  {
   "cell_type": "code",
   "execution_count": null,
   "metadata": {
    "id": "cWbJDjxvRXFC"
   },
   "outputs": [],
   "source": [
    "num_list = [1, 1, 2, 3, 5, 8, 13, 21, 34, 55, 89]\n",
    "print ([nums for nums in num_list if nums < 5])"
   ]
  },
  {
   "cell_type": "code",
   "execution_count": null,
   "metadata": {
    "id": "gfc3U-WASa3b"
   },
   "outputs": [],
   "source": [
    "num_list = [1, 1, 2, 3, 5, 8, 13, 21, 34, 55, 89]\n",
    "num_less_than = int(input(\"Enter a num:\"))\n",
    "print(\"Elements less than\", num_less_than, \"are listed below\")\n",
    "print ([nums for nums in num_list if nums < num_less_than])"
   ]
  },
  {
   "cell_type": "markdown",
   "metadata": {
    "id": "5D8W8CzES65O"
   },
   "source": [
    "####Q4. Create a program that asks the user for a number and then prints out a list of all the divisors of that number. (If you don’t know what a divisor is, it is a number that divides evenly into another number. For example, 13 is a divisor of 26 because 26 / 13 has no remainder.)"
   ]
  },
  {
   "cell_type": "code",
   "execution_count": null,
   "metadata": {
    "id": "lZGnUSbmSz8g"
   },
   "outputs": [],
   "source": [
    "num = int(input(\"Enter a number:\"))\n",
    "\n",
    "print(\"The divisors of\", num, \"are:\")\n",
    "print([ i for i in range(1,(num+1)) if num % i == 0])"
   ]
  },
  {
   "cell_type": "markdown",
   "metadata": {
    "id": "zWLxJA0fU-_l"
   },
   "source": [
    "####Q5. Take two lists, and write a program that returns a list that contains only the elements that are common between the lists (without duplicates). Make sure your program works on two lists of different sizes.\n",
    "\n",
    "###**Extras**:\n",
    "####- Randomly generate two lists to test this\n",
    "####- Write this in one line of Python"
   ]
  },
  {
   "cell_type": "code",
   "execution_count": null,
   "metadata": {
    "id": "LtpZAPP0UAcN"
   },
   "outputs": [],
   "source": [
    "a = [1, 1, 2, 3, 5, 8, 13, 21, 34, 55, 89]\n",
    "b = [1, 2, 3, 4, 5, 6, 7, 8, 9, 10, 11, 12, 13]\n",
    "common_nums = []\n",
    "for num1 in a:\n",
    "  if num1 in b and (num1 not in common_nums):\n",
    "    common_nums.append(num1)\n",
    "print(common_nums)"
   ]
  },
  {
   "cell_type": "code",
   "execution_count": null,
   "metadata": {
    "id": "KCseaIEVVjnG"
   },
   "outputs": [],
   "source": [
    "a = [1, 1, 2, 3, 5, 8, 13, 21, 34, 55, 89]\n",
    "b = [1, 2, 3, 4, 5, 6, 7, 8, 9, 10, 11, 12, 13]\n",
    "print([num1 for num1 in a and b if num1 in a and b])"
   ]
  },
  {
   "cell_type": "markdown",
   "metadata": {
    "id": "JDlbChXUXvwU"
   },
   "source": [
    "####Q6. Ask the user for a string and print out whether this string is a palindrome or not. (A palindrome is a string that reads the same forwards and backwards.)"
   ]
  },
  {
   "cell_type": "code",
   "execution_count": null,
   "metadata": {
    "id": "nOesRKaqWMsI"
   },
   "outputs": [],
   "source": [
    "string = input(\"Enter a string:\")\n",
    "if string == string[::-1]:\n",
    "  print(string, \"is a palindrome\")\n",
    "else:\n",
    "  print(string, \"is not a palindrome\")"
   ]
  },
  {
   "cell_type": "markdown",
   "metadata": {
    "id": "TnILBmljcXmF"
   },
   "source": [
    "####Q7. Write one line of Python that takes a list a and makes a new list that has only the even elements of this list in it."
   ]
  },
  {
   "cell_type": "code",
   "execution_count": null,
   "metadata": {
    "id": "2T8kNmg1YODR"
   },
   "outputs": [],
   "source": [
    "a = [1, 4, 9, 16, 25, 36, 49, 64, 81, 100]\n",
    "even_nos = []\n",
    "\n",
    "for num in a:\n",
    "  if num % 2 == 0:\n",
    "    even_nos.append(num)\n",
    "print(even_nos)\n",
    "\n",
    "print([num for num in a if num % 2 == 0])"
   ]
  },
  {
   "cell_type": "markdown",
   "metadata": {
    "id": "S5HrKGemc7zs"
   },
   "source": [
    "####Q8. Make a two-player Rock-Paper-Scissors game. (Hint: Ask for player plays (using input), compare them, print out a message of congratulations to the winner, and ask if the players want to start a new game).\n",
    "\n",
    "###Remember the rules:\n",
    "####- Rock beats scissors\n",
    "####- Scissors beats paper\n",
    "####- Paper beats rock"
   ]
  },
  {
   "cell_type": "code",
   "execution_count": null,
   "metadata": {
    "id": "Y1q6oeCncuM3"
   },
   "outputs": [],
   "source": [
    "\n",
    "continue_game = 'y'\n",
    "while continue_game == 'y':\n",
    "  player1_choice = input(\"rock(r), paper(p) or scissor(s)?\")\n",
    "  player2_choice = input(\"rock(r), paper(p) or scissor(s)?\")\n",
    "\n",
    "  if player1_choice == player2_choice:\n",
    "    print(\"Its a tie !\")\n",
    "\n",
    "  elif player1_choice == \"r\":\n",
    "    if player2_choice == \"s\":\n",
    "      print(\"Rock beats scissors, Congrats Player 1 !\")\n",
    "    elif player2_choice == \"p\":\n",
    "      print(\"Paper beats scissors, Congrats Player 2 !\")\n",
    "\n",
    "  elif player1_choice == \"p\":\n",
    "    if player2_choice == \"r\":\n",
    "      print(\"Paper beats rock, Congrats Player 1 !\")\n",
    "    elif player2_choice == \"s\":\n",
    "      print(\"Scissor beats paper, Congrats Player 2 !\")\n",
    "\n",
    "  elif player1_choice == \"s\":\n",
    "    if player2_choice == \"r\":\n",
    "      print(\"Rock beats scissors, Congrats Player 2 !\")\n",
    "    elif player2_choice == \"p\":\n",
    "      print(\"Scissor beats paper, Congrats Player 1 !\")\n",
    "\n",
    "  else:\n",
    "    print(\"Invalid choice please try again\")\n",
    "\n",
    "  continue_game = input(\"Do you wish to continue? y/n\")\n",
    "  if continue_game == 'n':\n",
    "    break"
   ]
  },
  {
   "cell_type": "markdown",
   "metadata": {
    "id": "2VYTvCJtA_F9"
   },
   "source": [
    "#### Q9. Generate a random number between 1 and 9 (including 1 and 9). Ask the user to guess the number, then tell them whether they guessed too low, too high, or exactly right. (Hint: remember to use the user input lessons from the very first exercise)\n",
    "\n",
    "#### **Extras**:\n",
    "#### Keep the game going until the user types “exit”. Keep track of how many guesses the user has taken, and when the game ends, print this out."
   ]
  },
  {
   "cell_type": "code",
   "execution_count": null,
   "metadata": {
    "id": "YaUW3NMmfBZl"
   },
   "outputs": [],
   "source": [
    "import random\n",
    "\n",
    "random_num = random.randint(1, 9)\n",
    "print(random_num)\n",
    "\n",
    "count = 0\n",
    "continue_game = 'y'\n",
    "\n",
    "while continue_game == 'y':\n",
    "  user_num = input(\"Guess a number:\")\n",
    "\n",
    "  if int(user_num) == random_num:\n",
    "    print(\"You guessed correctly !\")\n",
    "    #print(\"You have had\", count ,\"guess(es) in total.\")\n",
    "\n",
    "  elif int(user_num) < random_num:\n",
    "    print(\"Oh no, your guess was too low !\")\n",
    "\n",
    "  elif int(user_num) > random_num:\n",
    "    print(\"Oh no, your guess was too high !\")\n",
    "  \n",
    "  count += 1\n",
    "  \n",
    "  continue_game = input(\"Do you wish to continue? y/n\")\n",
    "  if continue_game == 'n':\n",
    "    print(\"You have had\", count ,\"guess(es) in total.\")\n",
    "    break\n"
   ]
  },
  {
   "cell_type": "markdown",
   "metadata": {
    "id": "QrKx5llWEAbk"
   },
   "source": [
    "#### Q10. Write a program that returns a list that contains only the elements that are common between the lists (without duplicates). Make sure your program works on two lists of different sizes. Write this using at least one list comprehension. Hint: set command\n",
    "\n",
    "#### **Extra**:\n",
    "#### Randomly generate two lists to test this\n"
   ]
  },
  {
   "cell_type": "code",
   "execution_count": null,
   "metadata": {
    "id": "vmN7AcPRBnOA"
   },
   "outputs": [],
   "source": [
    "a = [1, 1, 2, 3, 5, 8, 13, 21, 34, 55, 89]\n",
    "b = [1, 2, 3, 4, 5, 6, 7, 8, 9, 10, 11, 12, 13]\n",
    "\n",
    "print([num1 for num1 in a and b if num1 in a and b])"
   ]
  },
  {
   "cell_type": "code",
   "execution_count": null,
   "metadata": {
    "id": "7gQWh8ihEz2c"
   },
   "outputs": [],
   "source": [
    "random_a = []\n",
    "random_b = []\n",
    "\n",
    "for i in range(random.randint(1,10)):\n",
    "  random_a.append(random.randint(1,10))\n",
    "print(random_a)\n",
    "\n",
    "for j in range(random.randint(1,10)):\n",
    "  random_b.append(random.randint(1,10))\n",
    "print(random_b)\n",
    "\n",
    "if len(list(set(random_a) & set(random_b))) == 0:\n",
    "  print(\"There are no common elements :(\")\n",
    "else:\n",
    "  print(\"The common element(s) are\", list(set(random_a) & set(random_b)))"
   ]
  },
  {
   "cell_type": "markdown",
   "metadata": {
    "id": "UGlZxqh_PcHu"
   },
   "source": [
    "#### Q11. Ask the user for a number and determine whether the number is prime or not. (For those who have forgotten, a prime number is a number that has no divisors.). You can (and should!) use your answer to Exercise 4 to help you. Take this opportunity to practice using functions, described below."
   ]
  },
  {
   "cell_type": "code",
   "execution_count": null,
   "metadata": {
    "id": "k2d86veqFVUR"
   },
   "outputs": [],
   "source": [
    "\n",
    "\n",
    "def prime_or_not():\n",
    "  num = int(input(\"Enter a num:\"))\n",
    "  divisors = [i for i in range(1,(num+1)) if num % i == 0]\n",
    "  \n",
    "  if (divisors[0] == 1) and (len(divisors) == 1):\n",
    "    print(\"1 is prime\") \n",
    "  elif (divisors[0] == 1) and (divisors[1] == num) and (len(divisors) == 2):\n",
    "    print(num, \"is prime\")\n",
    "  else:\n",
    "    print(num, \"is not prime\")\n",
    "\n",
    "prime_or_not()\n",
    "\n"
   ]
  },
  {
   "cell_type": "markdown",
   "metadata": {
    "id": "NOUrKHmsncES"
   },
   "source": [
    "#### Q12. Write a program that takes a list of numbers and makes a new list of only the first and last elements of the given list. For practice, write this code inside a function."
   ]
  },
  {
   "cell_type": "code",
   "execution_count": null,
   "metadata": {
    "id": "zRO9o61NkhLn"
   },
   "outputs": [],
   "source": [
    "a_list = [5, 10, 15, 20, 25]\n",
    "\n",
    "def first_and_last(num_list):\n",
    "  first_last = [num_list[0], num_list[len(num_list)-1]]\n",
    "  return first_last\n",
    "\n",
    "first_and_last(a)"
   ]
  },
  {
   "cell_type": "markdown",
   "metadata": {
    "id": "w7Be9ItPoYXb"
   },
   "source": [
    "#### Q13. Write a program that asks the user how many Fibonnaci numbers to generate and then generates them. Take this opportunity to think about how you can use functions. Make sure to ask the user to enter the number of numbers in the sequence to generate."
   ]
  },
  {
   "cell_type": "code",
   "execution_count": null,
   "metadata": {
    "id": "IZSY1XFtoCR9"
   },
   "outputs": [],
   "source": [
    "def fibonacci():\n",
    "  nums = int(input(\"Enter the number of fibonacci numbers to be generated\"))\n",
    "  fibo_nums = [0, 1]\n",
    "  index_count = 1\n",
    "  next_num = 0\n",
    "  while len(fibo_nums) < nums:\n",
    "    next_num = fibo_nums[index_count-1] + fibo_nums[index_count]\n",
    "    index_count += 1\n",
    "    fibo_nums.append(next_num)\n",
    "  if nums == 0:\n",
    "    return []\n",
    "  elif nums == 1:\n",
    "    return [fibo_nums[0]]\n",
    "  elif nums == 2:\n",
    "    return fibo_nums[0:2]\n",
    "  else:\n",
    "    return fibo_nums\n",
    "\n",
    "fibonacci()\n"
   ]
  },
  {
   "cell_type": "markdown",
   "metadata": {
    "id": "7tOrROLczmBm"
   },
   "source": [
    "#### Q14. Write a program (function!) that takes a list and returns a new list that contains all the elements of the first list minus all the duplicates.\n",
    "\n",
    "### **Extras**:\n",
    "\n",
    "#### - Write two different functions to do this - one using a loop and constructing a list, and another using sets.\n",
    "#### - Go back and do Exercise 5 using sets, and write the solution for that in a different function."
   ]
  },
  {
   "cell_type": "code",
   "execution_count": null,
   "metadata": {
    "id": "DeGlDb7irwT2"
   },
   "outputs": [],
   "source": [
    "def no_duplicates(a_list):\n",
    "  b_list = []\n",
    "  for i in a_list:\n",
    "    if i not in b_list:\n",
    "      b_list.append(i)\n",
    "  return b_list\n",
    "\n",
    "def no_duplicates_oneline_list_comp(a_list):\n",
    "  b_list = []\n",
    "  [b_list.append(i) for i in a_list if i not in b_list]\n",
    "  return b_list\n",
    "\n",
    "def no_duplicates_set(a_list):\n",
    "  return list(set(a_list))\n",
    "\n",
    "no_duplicates_oneline_list_comp([1,2,2,3,4,4,6,7,88])"
   ]
  },
  {
   "cell_type": "markdown",
   "metadata": {
    "id": "hmLKXeOo6HDG"
   },
   "source": [
    "#### Q15. Write a program (using functions!) that asks the user for a long string containing multiple words. Print back to the user the same string, except with the words in backwards order."
   ]
  },
  {
   "cell_type": "code",
   "execution_count": null,
   "metadata": {
    "id": "z5f67ol7zetd"
   },
   "outputs": [],
   "source": [
    "def reverse_statement():\n",
    "  string = input(\"Enter a msg:\")\n",
    "  words = string.split(\" \")\n",
    "  reverse_words = words[::-1]\n",
    "  reverse_string = \" \".join(reverse_words)\n",
    "  return reverse_string\n",
    "\n",
    "reverse_statement()"
   ]
  },
  {
   "cell_type": "markdown",
   "metadata": {
    "id": "GFfVSwSm8Ja3"
   },
   "source": [
    "#### Q16. Write a password generator in Python. Be creative with how you generate passwords - strong passwords have a mix of lowercase letters, uppercase letters, numbers, and symbols. The passwords should be random, generating a new password every time the user asks for a new password. Include your run-time code in a main method"
   ]
  },
  {
   "cell_type": "code",
   "execution_count": null,
   "metadata": {
    "id": "3XbyOt406dOq"
   },
   "outputs": [],
   "source": [
    "import random \n",
    "import string\n",
    "\n",
    "\n",
    "def password_generator():\n",
    "  print(\"Welcome to Password Generator !!!\")\n",
    "  print(\"---------------------------------\")\n",
    "  print(\"Different Strength of Passwords...\")\n",
    "  print(\"Strong => Mix of lowercase, uppercase, numbers and symbols\")\n",
    "  print(\"Medium => Mix of lowercase, uppercase and numbers\")\n",
    "  print(\"Weak => Mix of lowercase and uppercase\")\n",
    "  print(\"\\nEnter the number of characters you require in your password for each data type:\")\n",
    "\n",
    "  lower_choice = int(input(\"No of lowercase characters (Required):\"))\n",
    "  upper_choice = int(input(\"No of uppercase characters (Required):\"))\n",
    "  number_choice = int(input(\"No of integers (Required):\"))\n",
    "  symbol_choice = int(input(\"No of symbols: \"))\n",
    "\n",
    "  lower_char = [random.choice(string.ascii_lowercase) for i in range(lower_choice)]\n",
    "  upper_char = [random.choice(string.ascii_uppercase) for i in range(upper_choice)]\n",
    "  number_char = [str(random.randint(0,9)) for i in range(number_choice)]\n",
    "  symbol_char = [random.choice(string.punctuation) for i in range(symbol_choice)]\n",
    "  \n",
    "  password = lower_char + upper_char + number_char + symbol_char\n",
    "  random.shuffle(password)\n",
    "  final_password = ''.join(password)\n",
    "  print(\"Your password is {} which has length {}\".format(final_password, len(final_password)))\n",
    "  # return lower_char, upper_char, number_char, symbol_char \n",
    "\n",
    "import time\n",
    "start_time = time.time()\n",
    "password_generator()\n",
    "print(\"This password was generated in {:.2f} seconds \".format(time.time() - start_time))\n"
   ]
  },
  {
   "cell_type": "markdown",
   "metadata": {
    "id": "JnNLpIELxlra"
   },
   "source": [
    "#### Q17. Use the BeautifulSoup and requests Python packages to print out a list of all the article titles on the New York Times homepage. (https://www.nytimes.com/)"
   ]
  },
  {
   "cell_type": "code",
   "execution_count": 2,
   "metadata": {
    "id": "GvdnMExkGac_"
   },
   "outputs": [
    {
     "name": "stdout",
     "output_type": "stream",
     "text": [
      "Europe’s Scorching Summer Puts Unexpected Strain on Energy Supply\n",
      "CVS, Walgreens and Walmart Must Pay $650.5 Million in Ohio Opioids Case\n",
      "C.D.C. Director Rebukes Pandemic Response and Calls for Agency Overhaul\n",
      "Wastewater Disease Tracking: A Journey From the Sewer to the Lab\n",
      "Plea Deal Requires Weisselberg to Testify at Trump Organization Trial\n",
      "Jan. 6 Grand Jury Has Subpoenaed White House Documents\n",
      "Former Vice President Mike Pence called on Republicans to stop assailing the F.B.I. after the Mar-a-Lago search.\n",
      "Rudy Giuliani, a target in Georgia’s inquiry into election interference efforts, appeared before an Atlanta grand jury.\n",
      "A Watermark and ‘Spidey Sense’ Unmask a Forged Galileo Treasure\n",
      "This Democrat Could Become the First Alaska Native in Congress\n",
      "After Loss, Liz Cheney Begins Difficult Mission of Thwarting Donald Trump\n",
      "On Politics: Some White House aides have embraced “Dark Brandon” — a meme with nearly impenetrable layers of online irony.\n",
      "U.S. Federal Reserve Sees Inflation Staying ‘Uncomfortably High’\n",
      "Sleepy Greek Port Becomes U.S. Arms Hub, as Ukraine War Reshapes Region\n",
      "British military instructors are training thousands of Ukrainian Army recruits for battle.\n",
      "The U.N. secretary general is in Ukraine to discuss nuclear safety and grain exports. Follow updates.\n",
      "Hanae Mori, Japanese Couturier Who Melded East-West Styles, Dies at 96\n",
      "Reinventing the Humble Tank Top\n",
      "A reader asked our columnist why her brother was so upset by her daughter’s debt forgiveness.\n",
      "An extinct megashark was shown to be bigger, faster and even hungrier than previously thought.\n",
      "A Word of Gratitude for Salman Rushdie’s Readers\n",
      "No One Will Get Rid of Putin\n",
      "In the Ways That Count, Liz Cheney Won\n",
      "Republicans Are America’s Problem\n",
      "How Long Will the U.S. Continue to Disrespect Its Caregivers?\n",
      "The Green Transition Is Happening Fast. The Climate Bill Will Only Speed It Up.\n",
      "After the Rushdie Attack, Can the Iran Nuclear Deal Be Saved?\n",
      "Why I’m Nostalgic for Landlines\n",
      "The Housing Market Is Bad but Not That Bad\n",
      "Trump, Dr. Oz and Our Political Cult of Celebrity\n",
      "Liz Cheney Paid the Price of ‘True Patriotism’\n",
      "How to Fight Polio With Cultural Sensitivity\n",
      "Reading While Incarcerated Saved Me. So Why Are Prisons Banning Books?\n",
      "Liz Cheney and the G.O.P. Old Guard Are Down, but They Might Not Be Out\n",
      "Every Dollar Spent on This Climate Technology Is a Waste\n",
      "I’m Going Blind. This Is What I Want You to See.\n",
      "Read the On Tech Newsletter\n",
      "Read The Veggie Newsletter\n",
      "Listen to ‘Popcast’\n",
      "Read the Interpreter Newsletter\n",
      "U.S. to Begin Formal Trade Talks With Taiwan\n",
      "‘I’m Done With Him’: Mother Disavows Son Accused of Rushdie Attack\n",
      "PGA Stars Seek Unity With LIV After Meeting With Tiger Woods\n",
      "In Europe, Uneven Monkeypox Vaccine Rollout Has Echoes of Covid Struggles\n",
      "New Method Improves Speed and Cost of Birth Defect Testing\n",
      "U.K. Train Strikes Bring More Summer Disruptions\n",
      "Woman Charged With Murder, Accused of Passing Drugs in Prison With a Kiss\n",
      "Ex-Kansas Police Officer Is Charged in a Long Series of Sex Crimes\n",
      "C.D.C. Investigates ‘Fast-Moving’ E. Coli Outbreak\n",
      "Anshu Jain, Who Took Deutsche Bank to Wall Street, Dies at 59\n",
      "Texas School District Removes Bible and Anne Frank Adaptation\n",
      "How to Meditate When You Can’t Sit Still\n",
      "The Mundane Thrill of ‘Romanticizing Your Life’\n",
      "How to Find the Beauty in Being Alone\n",
      "I’m Addicted to My Phone. How Can I Cut Back?\n",
      "A Mental Health Checklist for College Students\n",
      "As She-Hulk, Tatiana Maslany Is Beautiful When She’s Angry\n",
      "A Milanese Apartment Is Restored And Renewed\n",
      "Review: Jared Kushner’s Memoir Is Soulless and Selective\n",
      "The Case for Writing Fan Mail\n",
      "‘Daisies’: Two Wild and Crazy Gals\n",
      "Spelling Bee\n",
      "The Crossword\n",
      "Wordle — New!\n",
      "Chess Replay\n",
      "Letter Boxed\n",
      "Tiles\n"
     ]
    }
   ],
   "source": [
    "import requests\n",
    "from bs4 import BeautifulSoup\n",
    "\n",
    "nytimes_url = 'https://www.nytimes.com/'\n",
    "r = requests.get(nytimes_url)\n",
    "nytimes_html_content = r.content\n",
    "\n",
    "soup = BeautifulSoup(nytimes_html_content, 'html.parser')\n",
    "#title = soup.find('span', 'articletitle').string\n",
    "\n",
    "\n",
    "# title = soup.title            # HTML page title\n",
    "# paras = soup.find_all('p')    # Get all paras\n",
    "# anchors = soup.find_all('a')  # Get all anchor tags\n",
    "\n",
    "article_titles = soup.find_all('h3', {'class':'indicate-hover'})\n",
    "\n",
    "for i in range(len(article_titles)):\n",
    "  print(article_titles[i].text)"
   ]
  },
  {
   "cell_type": "code",
   "execution_count": 5,
   "metadata": {},
   "outputs": [
    {
     "name": "stdout",
     "output_type": "stream",
     "text": [
      "#PoliteEnquiries: Is Test cricket back to normal in England?\n",
      "Pope's penchant for a shot pays off against Proteas' thunderbolts\n",
      "Is Pakistan's middle-order weakness dictating how their top three bat?\n",
      "Rohit Sharma not writing off ODI cricket just yet\n"
     ]
    }
   ],
   "source": [
    "import requests\n",
    "from bs4 import BeautifulSoup\n",
    "\n",
    "cric_url = 'https://www.espncricinfo.com/'\n",
    "r = requests.get(cric_url)\n",
    "cric_html_content = r.content\n",
    "\n",
    "soup = BeautifulSoup(cric_html_content, 'html.parser')\n",
    "#title = soup.find('span', 'articletitle').string\n",
    "\n",
    "\n",
    "# title = soup.title            # HTML page title\n",
    "# paras = soup.find_all('p')    # Get all paras\n",
    "# anchors = soup.find_all('a')  # Get all anchor tags\n",
    "\n",
    "article_titles = soup.find_all('h1', {'class':['ds-text-title-s','ds-text-title-xl']})\n",
    "\n",
    "for i in range(len(article_titles)):\n",
    "  print(article_titles[i].text)"
   ]
  },
  {
   "cell_type": "markdown",
   "metadata": {
    "id": "HRv4t3VSPaOz"
   },
   "source": [
    "#### Q18. Create a program that will play the “cows and bulls” game with the user. The game works like this:\n",
    "\n",
    "#### Randomly generate a 4-digit number. Ask the user to guess a 4-digit number. For every digit that the user guessed correctly in the correct place, they have a “cow”. For every digit the user guessed correctly in the wrong place is a “bull.” Every time the user makes a guess, tell them how many “cows” and “bulls” they have. Once the user guesses the correct number, the game is over. Keep track of the number of guesses the user makes throughout teh game and tell the user at the end."
   ]
  },
  {
   "cell_type": "code",
   "execution_count": 8,
   "metadata": {
    "id": "ERv_zIjV-CL7"
   },
   "outputs": [
    {
     "name": "stdout",
     "output_type": "stream",
     "text": [
      "Enter a 4-digit number: 5678\n",
      "0 cows and 1 bulls\n",
      "Enter a 4-digit number: 1234\n",
      "2 cows and 0 bulls\n",
      "Enter a 4-digit number: 1256\n",
      "0 cows and 0 bulls\n",
      "Enter a 4-digit number: 5634\n",
      "2 cows and 0 bulls\n",
      "Enter a 4-digit number: 5634\n",
      "2 cows and 0 bulls\n",
      "Enter a 4-digit number: 5834\n",
      "2 cows and 1 bulls\n",
      "Enter a 4-digit number: 8534\n",
      "3 cows and 0 bulls\n",
      "Enter a 4-digit number: 8734\n",
      "3 cows and 0 bulls\n",
      "Enter a 4-digit number: 8634\n",
      "3 cows and 0 bulls\n",
      "Enter a 4-digit number: 8034\n",
      "3 cows and 0 bulls\n",
      "Enter a 4-digit number: 8234\n",
      "3 cows and 0 bulls\n",
      "Enter a 4-digit number: 8134\n",
      "3 cows and 0 bulls\n",
      "Enter a 4-digit number: 8834\n",
      "3 cows and 1 bulls\n",
      "Enter a 4-digit number: 8134\n",
      "3 cows and 0 bulls\n",
      "Enter a 4-digit number: 8734\n",
      "3 cows and 0 bulls\n",
      "Enter a 4-digit number: 8334\n",
      "3 cows and 1 bulls\n",
      "Enter a 4-digit number: 8934\n",
      "4 cows and 0 bulls\n",
      "The number is matched ! You have had 17 guesses.\n"
     ]
    }
   ],
   "source": [
    "import random\n",
    "\n",
    "num = str(random.randint(999,9999))\n",
    "#print(num)\n",
    "\n",
    "guess = 0\n",
    "user_num = '7'\n",
    "\n",
    "while num != user_num:\n",
    "    user_num = input(\"Enter a 4-digit number: \")\n",
    "    cow_count, bull_count = 0, 0\n",
    "    for i in range(len(user_num)):\n",
    "        if user_num[i] == num[i]:\n",
    "            cow_count += 1\n",
    "        elif user_num[i] in num and (user_num[i] != num[i]):\n",
    "            bull_count += 1\n",
    "    print(\"{} cows and {} bulls\".format(cow_count, bull_count))\n",
    "    guess += 1\n",
    "print(\"The number is matched ! You have had\", guess, \"guesses.\" )"
   ]
  },
  {
   "cell_type": "markdown",
   "metadata": {
    "id": "q0Ool6U4e397"
   },
   "source": [
    "#### Q19 & Q21. Using the requests and BeautifulSoup Python libraries, print to the screen the full text of the article on this website: http://www.vanityfair.com/society/2014/06/monica-lewinsky-humiliation-culture.\n",
    "\n",
    "#### The article is long, so it is split up between 4 pages. Your task is to print out the text to the screen so that you can read the full article without having to click any buttons. (Hint: The post here describes in detail how to use the BeautifulSoup and requests libraries through the solution of the exercise posted here.) This will just print the full text of the article to the screen. It will not make it easy to read, so next exercise we will learn how to write this text to a .txt file. "
   ]
  },
  {
   "cell_type": "code",
   "execution_count": 11,
   "metadata": {
    "id": "XG9FbOcHMgf1"
   },
   "outputs": [],
   "source": [
    "# we want the full text of the article, without clicking buttons\n",
    "import requests\n",
    "from bs4 import BeautifulSoup\n",
    "\n",
    "url = 'https://www.vanityfair.com/style/society/2014/06/monica-lewinsky-humiliation-culture'\n",
    "r = requests.get(url)\n",
    "vf_html_content = r.content\n",
    "\n",
    "soup = BeautifulSoup(vf_html_content, 'html.parser')\n",
    "\n",
    "# title = soup.title            # HTML page title\n",
    "# paras = soup.find_all('p')    # Get all paras\n",
    "# anchors = soup.find_all('a')  # Get all anchor tags\n",
    "\n",
    "article_text_resultset = soup.find_all('div', {'class':'body__inner-container'})\n",
    "\n",
    "article_text_list = []\n",
    "\n",
    "for paras in article_text_resultset:\n",
    "    article_text_list.append(paras.text)\n",
    "\n",
    "article_fulltext = \"\\n\".join(article_text_list)\n",
    "\n",
    "with open('vf_article_text.txt', 'w') as open_file:\n",
    "    open_file.write(article_fulltext)\n"
   ]
  },
  {
   "cell_type": "markdown",
   "metadata": {
    "id": "TkSSw_tY7OQ-"
   },
   "source": [
    "#### Q20. Write a function that takes an ordered list of numbers (a list where the elements are in order from smallest to largest) and another number. The function decides whether or not the given number is inside the list and returns (then prints) an appropriate boolean.\n",
    "\n",
    "####**Extras**:\n",
    "####Use binary search."
   ]
  },
  {
   "cell_type": "code",
   "execution_count": 12,
   "metadata": {
    "id": "iV_I-l5u1RZ1"
   },
   "outputs": [
    {
     "name": "stdout",
     "output_type": "stream",
     "text": [
      "False\n",
      "This search was executed in 0.0011 seconds \n"
     ]
    }
   ],
   "source": [
    "def in_list(asc_list, num):\n",
    "  if num in asc_list:\n",
    "    print(True)\n",
    "  else:\n",
    "    print(False)\n",
    "\n",
    "import random\n",
    "unorder_list = [random.randint(0,100) for i in range(0,100)]\n",
    "asc_list = sorted(unorder_list)\n",
    "\n",
    "import time\n",
    "start_time = time.time()\n",
    "in_list(asc_list, 88)\n",
    "print(\"This search was executed in {:.4f} seconds \".format(time.time() - start_time))\n"
   ]
  },
  {
   "cell_type": "code",
   "execution_count": 18,
   "metadata": {
    "id": "CziUQlYj7921"
   },
   "outputs": [
    {
     "name": "stdout",
     "output_type": "stream",
     "text": [
      "56 is in the list at index position 7\n",
      "This search was executed in 0.0005 seconds \n"
     ]
    }
   ],
   "source": [
    "\n",
    "def in_list_binary_search(unorder_list, num):\n",
    "    asc_list = sorted(unorder_list)\n",
    "    lower_index, upper_index = 0, len(asc_list)-1\n",
    "  \n",
    "    while lower_index <= upper_index:\n",
    "    \n",
    "        mid_index = (lower_index + upper_index) // 2\n",
    "        mid_value = asc_list[mid_index]\n",
    "\n",
    "        if num == mid_value:\n",
    "            return num, asc_list, unorder_list\n",
    "        elif num < mid_value:1\n",
    "            upper_index = mid_index - 1\n",
    "        else:\n",
    "            lower_index = mid_index + 1\n",
    "\n",
    "    \n",
    "    \n",
    "a_list = [1,2,3,4,5,8,9,56,23,56,34,56,21]\n",
    "num = 56\n",
    "\n",
    "import time\n",
    "start_time = time.time()\n",
    "if in_list_binary_search(a_list, num) != None:\n",
    "  print(num, \"is in the list at index position\", a_list.index(num))\n",
    "else:\n",
    "  print(num, \"is not in list :(\")\n",
    "print(\"This search was executed in {:.4f} seconds \".format(time.time() - start_time))"
   ]
  },
  {
   "cell_type": "markdown",
   "metadata": {
    "id": "cdVz1ZUszoF2"
   },
   "source": [
    "#### Q22. Given a .txt file that has a list of a bunch of names, count how many of each name there are in the file, and print out the results to the screen. I have a .txt file for you, if you want to use it!\n",
    "\n",
    "#### **Extra**:\n",
    "\n",
    "#### Instead of using the .txt file from above (or instead of, if you want the challenge), take this .txt file, and count how many of each “category” of each image there are. This text file is actually a list of files corresponding to the SUN database scene recognition database, and lists the file directory hierarchy for the images. Once you take a look at the first line or two of the file, it will be clear which part represents the scene category. To do this, you’re going to have to remember a bit about string parsing in Python 3. I talked a little bit about it in this post."
   ]
  },
  {
   "cell_type": "code",
   "execution_count": 8,
   "metadata": {
    "id": "mdo7OEYP_u0m"
   },
   "outputs": [
    {
     "data": {
      "text/plain": [
       "['Ath', 'Gan', 'Man']"
      ]
     },
     "execution_count": 8,
     "metadata": {},
     "output_type": "execute_result"
    }
   ],
   "source": [
    "# .read() = reads the entire file as a string\n",
    "# .readline() = reads the file line-by-line\n",
    "# .readlines() = reads all the lines in the file \n",
    "\n",
    "with open('q22_namelist.txt', 'r') as open_file:\n",
    "    formatted_text = open_file.readlines() \n",
    "\n",
    "all_text = [name.replace('\\n','') for name in formatted_text]\n",
    "\n",
    "#print(\"There are\", len(all_text), \"names in the file\")\n",
    "all_text"
   ]
  },
  {
   "cell_type": "code",
   "execution_count": 20,
   "metadata": {
    "id": "Ny6ycVx2BU5Q"
   },
   "outputs": [
    {
     "name": "stdout",
     "output_type": "stream",
     "text": [
      "There are in total 362 categories\n",
      "{'abbey': 50, 'airplane_cabin': 50, 'airport_terminal': 50, 'alley': 50, 'amphitheater': 50, 'amusement_arcade': 50, 'amusement_park': 50, 'anechoic_chamber': 50, 'apartment_building': 50, 'apse': 50, 'aquarium': 50, 'aqueduct': 50, 'arch': 50, 'archive': 50, 'arrival_gate': 50, 'art_gallery': 50, 'art_school': 50, 'art_studio': 50, 'assembly_line': 50, 'athletic_field': 50, 'atrium': 50, 'attic': 50, 'auditorium': 50, 'auto_factory': 50, 'badlands': 50, 'badminton_court': 50, 'baggage_claim': 50, 'bakery': 50, 'balcony': 100, 'ball_pit': 50, 'ballroom': 50, 'bamboo_forest': 50, 'banquet_hall': 50, 'bar': 50, 'barn': 50, 'barndoor': 50, 'baseball_field': 50, 'basement': 50, 'basilica': 50, 'basketball_court': 50, 'bathroom': 50, 'batters_box': 50, 'bayou': 50, 'bazaar': 100, 'beach': 50, 'beauty_salon': 50, 'bedroom': 50, 'berth': 50, 'biology_laboratory': 50, 'bistro': 50, 'boardwalk': 50, 'boat_deck': 50, 'boathouse': 50, 'bookstore': 50, 'booth': 50, 'botanical_garden': 50, 'bow_window': 100, 'bowling_alley': 50, 'boxing_ring': 50, 'brewery': 50, 'bridge': 50, 'building_facade': 50, 'bullring': 50, 'burial_chamber': 50, 'bus_interior': 50, 'butchers_shop': 50, 'butte': 50, 'cabin': 50, 'cafeteria': 50, 'campsite': 50, 'campus': 50, 'canal': 100, 'candy_store': 50, 'canyon': 50, 'car_interior': 100, 'carrousel': 50, 'casino': 50, 'castle': 50, 'catacomb': 50, 'cathedral': 100, 'cavern': 50, 'cemetery': 50, 'chalet': 50, 'cheese_factory': 50, 'chemistry_lab': 50, 'chicken_coop': 100, 'childs_room': 50, 'church': 100, 'classroom': 50, 'clean_room': 50, 'cliff': 50, 'cloister': 50, 'closet': 50, 'clothing_store': 50, 'coast': 50, 'cockpit': 50, 'coffee_shop': 50, 'computer_room': 50, 'conference_center': 50, 'conference_room': 50, 'construction_site': 50, 'control_room': 50, 'control_tower': 50, 'corn_field': 50, 'corral': 50, 'corridor': 50, 'cottage_garden': 50, 'courthouse': 50, 'courtroom': 50, 'courtyard': 50, 'covered_bridge': 50, 'creek': 50, 'crevasse': 50, 'crosswalk': 50, 'cubicle': 50, 'dam': 50, 'delicatessen': 50, 'dentists_office': 50, 'desert': 100, 'diner': 100, 'dinette': 100, 'dining_car': 50, 'dining_room': 50, 'discotheque': 50, 'dock': 50, 'doorway': 50, 'dorm_room': 50, 'driveway': 50, 'driving_range': 50, 'drugstore': 50, 'electrical_substation': 50, 'elevator': 100, 'elevator_shaft': 50, 'engine_room': 50, 'escalator': 50, 'excavation': 50, 'factory': 50, 'fairway': 50, 'fastfood_restaurant': 50, 'field': 100, 'fire_escape': 50, 'fire_station': 50, 'firing_range': 50, 'fishpond': 50, 'florist_shop': 50, 'food_court': 50, 'forest': 100, 'forest_path': 50, 'forest_road': 50, 'formal_garden': 50, 'fountain': 50, 'galley': 50, 'game_room': 50, 'garage': 50, 'garbage_dump': 50, 'gas_station': 50, 'gazebo': 50, 'general_store': 100, 'gift_shop': 50, 'golf_course': 50, 'greenhouse': 100, 'gymnasium': 50, 'hangar': 100, 'harbor': 50, 'hayfield': 50, 'heliport': 50, 'herb_garden': 50, 'highway': 50, 'hill': 50, 'home_office': 50, 'hospital': 50, 'hospital_room': 50, 'hot_spring': 50, 'hot_tub': 50, 'hotel': 50, 'hotel_room': 50, 'house': 50, 'hunting_lodge': 50, 'ice_cream_parlor': 50, 'ice_floe': 50, 'ice_shelf': 50, 'ice_skating_rink': 100, 'iceberg': 50, 'igloo': 50, 'industrial_area': 50, 'inn': 50, 'islet': 50, 'jacuzzi': 50, 'jail': 50, 'jail_cell': 50, 'jewelry_shop': 50, 'kasbah': 50, 'kennel': 100, 'kindergarden_classroom': 50, 'kitchen': 50, 'kitchenette': 50, 'labyrinth': 50, 'lake': 50, 'landfill': 50, 'landing_deck': 50, 'laundromat': 50, 'lecture_room': 50, 'library': 100, 'lido_deck': 50, 'lift_bridge': 50, 'lighthouse': 50, 'limousine_interior': 50, 'living_room': 50, 'lobby': 50, 'lock_chamber': 50, 'locker_room': 50, 'mansion': 50, 'manufactured_home': 50, 'market': 100, 'marsh': 50, 'martial_arts_gym': 50, 'mausoleum': 50, 'medina': 50, 'moat': 50, 'monastery': 50, 'mosque': 100, 'motel': 50, 'mountain': 50, 'mountain_snowy': 50, 'movie_theater': 50, 'museum': 50, 'music_store': 50, 'music_studio': 50, 'nuclear_power_plant': 50, 'nursery': 50, 'oast_house': 50, 'observatory': 50, 'ocean': 50, 'office': 50, 'office_building': 50, 'oil_refinery': 50, 'oilrig': 50, 'operating_room': 50, 'orchard': 50, 'outhouse': 50, 'pagoda': 50, 'palace': 50, 'pantry': 50, 'park': 50, 'parking_garage': 100, 'parking_lot': 50, 'parlor': 50, 'pasture': 50, 'patio': 50, 'pavilion': 50, 'pharmacy': 50, 'phone_booth': 50, 'physics_laboratory': 50, 'picnic_area': 50, 'pilothouse': 50, 'planetarium': 50, 'playground': 50, 'playroom': 50, 'plaza': 50, 'podium': 100, 'pond': 50, 'poolroom': 100, 'power_plant': 50, 'promenade_deck': 50, 'pub': 50, 'pulpit': 50, 'putting_green': 50, 'racecourse': 50, 'raceway': 50, 'raft': 50, 'railroad_track': 50, 'rainforest': 50, 'reception': 50, 'recreation_room': 50, 'residential_neighborhood': 50, 'restaurant': 50, 'restaurant_kitchen': 50, 'restaurant_patio': 50, 'rice_paddy': 50, 'riding_arena': 50, 'river': 50, 'rock_arch': 50, 'rope_bridge': 50, 'ruin': 50, 'runway': 50, 'sandbar': 50, 'sandbox': 50, 'sauna': 50, 'schoolhouse': 50, 'sea_cliff': 50, 'server_room': 50, 'shed': 50, 'shoe_shop': 50, 'shopfront': 50, 'shopping_mall': 50, 'shower': 50, 'skatepark': 50, 'ski_lodge': 50, 'ski_resort': 50, 'ski_slope': 50, 'sky': 50, 'skyscraper': 50, 'slum': 50, 'snowfield': 50, 'squash_court': 50, 'stable': 50, 'stadium': 100, 'stage': 50, 'staircase': 50, 'street': 50, 'subway_interior': 50, 'subway_station': 50, 'supermarket': 50, 'sushi_bar': 50, 'swamp': 50, 'swimming_pool': 100, 'synagogue': 100, 'television_studio': 50, 'temple': 100, 'tennis_court': 100, 'tent': 50, 'theater': 100, 'thriftshop': 50, 'throne_room': 50, 'ticket_booth': 50, 'toll_plaza': 50, 'topiary_garden': 50, 'tower': 50, 'toyshop': 50, 'track': 50, 'train_railway': 50, 'train_station': 50, 'tree_farm': 50, 'tree_house': 50, 'trench': 50, 'underwater': 50, 'utility_room': 50, 'valley': 50, 'van_interior': 50, 'vegetable_garden': 50, 'veranda': 50, 'veterinarians_office': 50, 'viaduct': 50, 'videostore': 50, 'village': 50, 'vineyard': 50, 'volcano': 50, 'volleyball_court': 100, 'waiting_room': 50, 'warehouse': 50, 'water_tower': 50, 'waterfall': 150, 'watering_hole': 50, 'wave': 50, 'wet_bar': 50, 'wheat_field': 50, 'wind_farm': 50, 'windmill': 50, 'wine_cellar': 100, 'wrestling_ring': 50, 'yard': 50, 'youth_hostel': 50}\n"
     ]
    }
   ],
   "source": [
    "with open('sun_file.txt', 'r') as open_file:\n",
    "    formatted_text = open_file.readlines()\n",
    "\n",
    "# splits the filename based upon '/'\n",
    "separated_text = [files.split('/') for files in formatted_text]\n",
    "\n",
    "#print(separated_text[0][2]) # gives the \"category\" for the first image\n",
    "\n",
    "# the category of each image is defined by index = 2\n",
    "categories = [files[2] for files in separated_text]\n",
    "print(\"There are in total\", len(set(categories)), \"categories\")\n",
    "\n",
    "# printing a list of a list\n",
    "category_count = [[category, categories.count(category)] for category in set(categories)]\n",
    "category_count.sort()\n",
    "#print(category_count)\n",
    "\n",
    "# adding to a dictionary\n",
    "category_dict = {}\n",
    "for category_num in category_count:\n",
    "    category_dict[category_num[0]] = category_num[1]\n",
    "print(category_dict)\n"
   ]
  },
  {
   "cell_type": "markdown",
   "metadata": {
    "id": "UXwYpEkQIpks"
   },
   "source": [
    "#### Q23. Given two .txt files that have lists of numbers in them, find the numbers that are overlapping. prime_nums_txt = has a list of all prime numbers under 1000, and happy_nums.txt = has a list of happy numbers up to 1000."
   ]
  },
  {
   "cell_type": "code",
   "execution_count": 22,
   "metadata": {
    "id": "rBZUXUrbPGYb"
   },
   "outputs": [
    {
     "name": "stdout",
     "output_type": "stream",
     "text": [
      "33 numbers are both prime and happy :)\n",
      "['7', '13', '19', '23', '31', '79', '97', '103', '109', '139', '167', '193', '239', '263', '293', '313', '331', '367', '379', '383', '397', '487', '563', '617', '653', '673', '683', '709', '739', '761', '881', '907', '937']\n"
     ]
    }
   ],
   "source": [
    "with open('prime_nums.txt', 'r') as open_file:\n",
    "    prime_raw_text = open_file.readlines()\n",
    "\n",
    "with open('happy_nums.txt', 'r') as open_file:\n",
    "    happy_raw_text = open_file.readlines()\n",
    "\n",
    "prime_text = [nums.replace('\\n','') for nums in prime_raw_text]\n",
    "happy_text = [nums.replace('\\n','') for nums in happy_raw_text]\n",
    "\n",
    "common_text = [common_nums\n",
    "               for common_nums in prime_text and happy_text \n",
    "               if common_nums in prime_text and happy_text]\n",
    "\n",
    "print(len(common_text), \"numbers are both prime and happy :)\")\n",
    "print(common_text)    "
   ]
  },
  {
   "cell_type": "markdown",
   "metadata": {
    "id": "UJ2p3SJJJJXo"
   },
   "source": [
    "#### Q24. This exercise is Part 1 of 4 of the Tic Tac Toe exercise series. The other exercises are: Part 2, Part 3, and Part 4.\n",
    "\n",
    "#### Let’s say we want to draw game boards that look like this:\n",
    "\n",
    " --- --- --- \n",
    "|   |   |   |\n",
    " --- --- ---  \n",
    "|   |   |   |\n",
    " --- --- ---  \n",
    "|   |   |   |\n",
    " --- --- --- \n",
    "\n",
    "#### Ask the user what size game board they want to draw, and draw it for them to the screen using Python’s print statement."
   ]
  },
  {
   "cell_type": "code",
   "execution_count": null,
   "metadata": {
    "id": "zWbFCHcWKBrZ"
   },
   "outputs": [],
   "source": [
    "hline = \" ---\"\n",
    "vline = \"|\"\n",
    "\n",
    "# function to draw square/rectangular boards\n",
    "def draw_board():\n",
    "  rows = int(input(\"Enter no of rows:\\n\"))\n",
    "  cols = int(input(\"Enter no of columns:\\n\"))\n",
    "  print (\"The game board will have {} rows and {} columns\".format(rows, cols))\n",
    "  \n",
    "  for i in range(0,(2*rows + 1)):\n",
    "    if i % 2 == 0:\n",
    "      for j in range(0,cols):\n",
    "        print(hline, end=\"\")\n",
    "    else:\n",
    "      for j in range(0,cols+1):\n",
    "        print(vline, end=\"   \")\n",
    "    print(\"\")\n",
    "\n",
    "draw_board()"
   ]
  },
  {
   "cell_type": "code",
   "execution_count": null,
   "metadata": {
    "id": "jwNZS8AJdITF"
   },
   "outputs": [],
   "source": [
    "# function to draw square boards\n",
    "def draw_squareboard(rows):\n",
    "    # initialize an empty board\n",
    "    board = \"\"\n",
    "\n",
    "    # there are 5 rows in a standard tic-tac-toe board\n",
    "    for i in range(2*rows+1):\n",
    "        # switch between printing vertical and horizontal bars\n",
    "        if i % 2 == 0:\n",
    "            board += \" ---\" * (rows)\n",
    "        else:\n",
    "            board += \"|   \" * (rows+1)\n",
    "        # don't forget to start a new line after each row using \"\\n\"\n",
    "        board += \"\\n\"\n",
    "\n",
    "    print(board)\n",
    "\n",
    "draw_squareboard(2)"
   ]
  },
  {
   "cell_type": "markdown",
   "metadata": {
    "id": "OaLWttA2Jsm8"
   },
   "source": [
    "#### Q25. User will have in your head a number between 0 and 100. The program will guess a number, and you, the user, will say whether it is too high, too low, or your number.\n",
    "\n",
    "#### At the end of this exchange, your program should print out how many guesses it took to get your number.\n",
    "\n",
    "#### Note: The program needs an optimal guessing strategy. An alternate strategy might be to guess 50 (right in the middle of the range), and then increase / decrease by 1 as needed. After you’ve written the program, try to find the optimal strategy! (We’ll talk about what is the optimal one next week with the solution.)"
   ]
  },
  {
   "cell_type": "code",
   "execution_count": null,
   "metadata": {
    "id": "xwlShMf4JsaF"
   },
   "outputs": [],
   "source": [
    "# binary search to check how many guesses is required by the computer to find the number\n",
    "def binary_search():\n",
    "  user_num = int(input(\"Choose a num between 0 to 100:\"))\n",
    "  num_list = [i for i in range(0,101)]\n",
    "  \n",
    "  lower_index, upper_index = 0, len(num_list)-1\n",
    "  guess_count = 0\n",
    "  while lower_index <= upper_index:\n",
    "\n",
    "    mid_index = (lower_index + upper_index) // 2\n",
    "    mid_value = num_list[mid_index]\n",
    "\n",
    "    guess_count += 1\n",
    "\n",
    "    if user_num == mid_value:\n",
    "      return user_num, guess_count\n",
    "    elif user_num < mid_value:\n",
    "      upper_index = mid_index - 1\n",
    "    else:\n",
    "      lower_index = mid_index + 1\n",
    "    \n",
    "\n",
    "print(\"The computer took\", binary_search()[1], \"guesses to find your number\")"
   ]
  },
  {
   "cell_type": "markdown",
   "metadata": {
    "id": "gQ2x41S2XUrw"
   },
   "source": [
    "#### Q26. If a game of Tic Tac Toe is represented as a list of lists, like so:\n",
    "#### game = [[1, 2, 0],\n",
    "####        [2, 1, 0],\n",
    "####\t      [2, 1, 1]]\n",
    "#### where a 0 = empty square, a 1 = player 1 put their token in that space, and a 2 = player 2 put their token in that space.\n",
    "\n",
    "#### Given a 3 by 3 list of lists, tell me whether anyone has won, and tell me which player won, if any. A Tic Tac Toe win is 3 in a row - either in a row, a column, or a diagonal. Assume that in every board there will only be one winner."
   ]
  },
  {
   "cell_type": "code",
   "execution_count": null,
   "metadata": {
    "id": "pwSJAXRXdO4f"
   },
   "outputs": [],
   "source": [
    "# checking rows\n",
    "def row_match(game):\n",
    "  for rows in game:\n",
    "    if len(set(rows)) == 1:\n",
    "      return rows[0]\n",
    "  else:\n",
    "    return None\n",
    "\n",
    "# checking columns\n",
    "def col_match(game):\n",
    "  rows, cols = 0,0\n",
    "  while cols <= 2:\n",
    "    if game[rows][cols] == game[rows+1][cols] == game[rows+2][cols]:\n",
    "      return game[rows][cols]\n",
    "    cols += 1\n",
    "  else:\n",
    "    return None\n",
    "\n",
    "# checking diagonals\n",
    "def diag_match(game):\n",
    "  if len(set([game[i][i] for i in range(len(game))])) == 1:\n",
    "        return game[0][0]\n",
    "  elif len(set([game[i][len(game)-i-1] for i in range(len(game))])) == 1:\n",
    "        return game[0][len(game)-1]\n",
    "  else:\n",
    "    return None\n",
    "\n",
    "\n",
    "# winning games\n",
    "winner_1 = [[1, 2, 0],\n",
    "\t          [2, 1, 0],\n",
    "\t          [2, 1, 1]]\n",
    "\n",
    "winner_2 = [[2, 2, 0],\n",
    "\t          [2, 1, 0],\n",
    "\t          [2, 1, 1]]\n",
    "\n",
    "winner_1_also = [[0, 1, 0],\n",
    "\t               [2, 1, 0],\n",
    "\t               [2, 1, 1]]\n",
    "\n",
    "# drawing games\n",
    "draw = [[1, 1, 0],\n",
    "\t      [0, 2, 1],\n",
    "\t      [1, 1, 2]]\n",
    "\n",
    "also_draw = [[1, 2, 0],\n",
    "\t           [2, 1, 0],\n",
    "\t           [2, 1, 0]]\n",
    "\n",
    "also2_draw = [[1, 2, 0],\n",
    "\t            [2, 1, 0],\n",
    "\t            [2, 1, 2]]\n",
    "\n",
    "def check_game(game):\n",
    "  if col_match(game) != None and col_match(game) != 0:\n",
    "    print(\"Player {} is the winner !\".format(col_match(game)))\n",
    "  elif row_match(game) != None and row_match(game) != 0:\n",
    "    print(\"Player {} is the winner !\".format(row_match(game)))\n",
    "  elif diag_match(game) != None:\n",
    "    print(\"Player {} is the winner !\".format(diag_match(game)))\n",
    "  else:\n",
    "    print(\"Its a draw ! There is no winner :(\")\n",
    "\n",
    "check_game(winner_1)"
   ]
  },
  {
   "cell_type": "markdown",
   "metadata": {
    "id": "1kb258TmZ1Mg"
   },
   "source": [
    "#### Q27 & Q29. Tic-tac-toe\n",
    "\n",
    "- For this exercise, assume that player 1 (the first player to move) will always be X and player 2 (the second player) will always be O.\n",
    "\n",
    "- Coordinates starting from (1, 1) instead of (0, 0).\n",
    "\n",
    "- Ask the user to enter coordinates in the form “row,col” - a number, then a comma, then a number. \n",
    "\n",
    "- Don’t worry about checking whether someone won the game, but if a player tries to put a piece in a game position where there already is another piece, do not allow the piece to go there.\n",
    "\n",
    "- Keep track of how many squares are full and automatically stop asking for moves when there are no more valid moves."
   ]
  },
  {
   "cell_type": "code",
   "execution_count": null,
   "metadata": {
    "id": "onhKhZahaLH9"
   },
   "outputs": [],
   "source": [
    "game = [[0, 0, 0],\n",
    "\t      [0, 0, 0],\n",
    "\t      [0, 0, 0]]\n",
    "\n",
    "# checking rows\n",
    "def row_match(game):\n",
    "  for rows in game:\n",
    "    if len(set(rows)) == 1:\n",
    "      return rows[0]\n",
    "  else:\n",
    "    return None\n",
    "\n",
    "# checking columns\n",
    "def col_match(game):\n",
    "  rows, cols = 0,0\n",
    "  while cols <= 2:\n",
    "    if game[rows][cols] == game[rows+1][cols] == game[rows+2][cols]:\n",
    "      return game[rows][cols]\n",
    "    cols += 1\n",
    "  else:\n",
    "    return None\n",
    "\n",
    "# checking diagonals\n",
    "def diag_match(game):\n",
    "  if len(set([game[i][i] for i in range(len(game))])) == 1:\n",
    "        return game[0][0]\n",
    "  elif len(set([game[i][len(game)-i-1] for i in range(len(game))])) == 1:\n",
    "        return game[0][len(game)-1]\n",
    "  else:\n",
    "    return None\n",
    "\n",
    "# checking for a winner on the board\n",
    "def check_game(game):\n",
    "  if col_match(game) != None and col_match(game) != 0:\n",
    "    return col_match(game)\n",
    "  elif row_match(game) != None and row_match(game) != 0:\n",
    "    return row_match(game)\n",
    "  elif diag_match(game) != None:\n",
    "    return diag_match(game)\n",
    "  else:\n",
    "    return False\n",
    "\n",
    "def player_move(player_mark, game):\n",
    "  x_coord, y_coord = [int(i) for i in input(\"Enter the coordinates: \").split(\",\")]\n",
    "  x_index, y_index = x_coord-1, y_coord-1\n",
    "  if game[x_index][y_index] == 0:\n",
    "    game[x_index][y_index] = player_mark\n",
    "  else:\n",
    "    print(\"This square is occupied :( Try another square\")\n",
    "    player_move(player_mark, game)\n",
    "\n",
    "print(\"Welcome to Tic-Tac-Toe !!! \")\n",
    "print(\"Player 1 starts first and plays with X while Player 2 plays with O\")\n",
    "\n",
    "spaces = 9\n",
    "player_number = 1\n",
    "continue_game = 'y'\n",
    "player1_count = 0\n",
    "player2_count = 0\n",
    "\n",
    "while continue_game == 'y':\n",
    "\n",
    "  while spaces >= 0:\n",
    "    \n",
    "    if check_game(game) == False:\n",
    "      \n",
    "      if player_number == 1:\n",
    "        print(\"Player {}'s turn\".format(player_number))\n",
    "        player_move('X', game)\n",
    "        player_number += 1\n",
    "      elif player_number == 2:\n",
    "        print(\"Player {}'s turn\".format(player_number))\n",
    "        player_move('O', game)\n",
    "        player_number -= 1\n",
    "      else:\n",
    "        player_number = player_number\n",
    "      \n",
    "      spaces = sum([rows.count(0) for rows in game])\n",
    "      #print(\"There are {} spaces left\".format(spaces))\n",
    "      spaces -= 1\n",
    "      \n",
    "      for row in game:\n",
    "        print('| ' + ' '.join(str(place).replace(\"0\", \" \") + ' |' for place in row))\n",
    "        print(\" --- --- --- \")\n",
    "\n",
    "    elif check_game(game) == 'X':\n",
    "      print(\"Player 1 is the winner !\")\n",
    "      player1_count += 1\n",
    "      break\n",
    "\n",
    "    elif check_game(game) == 'O':\n",
    "      print(\"Player 2 is the winner !\")\n",
    "      player2_count += 2\n",
    "      break\n",
    "\n",
    "  print(\"There are no moves left !\")\n",
    "  continue_game = input(\"Do you wish to continue? y/n\")\n",
    "  if continue_game == 'n':\n",
    "    print(\"Player 1 won {} games and Player 2 won {} games\".format(player1_count, player2_count))\n",
    "    break"
   ]
  },
  {
   "cell_type": "markdown",
   "metadata": {
    "id": "elCZGFUfnOit"
   },
   "source": [
    "#### Q28. Implement a function that takes as input three variables, and returns the largest of the three. Do this without using the Python max() function!"
   ]
  },
  {
   "cell_type": "code",
   "execution_count": null,
   "metadata": {
    "id": "0ppOC-YWbhsn"
   },
   "outputs": [],
   "source": [
    "def max_num(num1, num2, num3):\n",
    "  if num1 > num2 and num1 > num3:\n",
    "    return num1\n",
    "  elif num2 > num1 and num2 > num3:\n",
    "    return num2\n",
    "  elif num3 > num1 and num3 > num2:\n",
    "    return num3\n",
    "  elif num1 == num2 == num3:\n",
    "    return num1\n",
    "  else:\n",
    "    num_list = [num1, num2, num3]\n",
    "    for num in num_list:\n",
    "      if num_list.count(num) == 2:\n",
    "        return num\n",
    "    \n",
    "max_num(2,1,2)"
   ]
  },
  {
   "cell_type": "markdown",
   "metadata": {
    "id": "40H2iFK5qlbI"
   },
   "source": [
    "#### Q30. Hangman (part 1/3): Pick a random word from a list of words from the SOWPODS dictionary i.e. hangman_words.txt file"
   ]
  },
  {
   "cell_type": "code",
   "execution_count": null,
   "metadata": {
    "id": "CN9ipbAp6dSA"
   },
   "outputs": [],
   "source": [
    "import random\n",
    "with open('hangman_words.txt', 'r') as open_file:\n",
    "    raw_words = open_file.readlines()\n",
    "\n",
    "all_words = [words.replace('\\n','') for words in raw_words]\n",
    "random_word = random.choice(all_words)"
   ]
  },
  {
   "cell_type": "markdown",
   "metadata": {
    "id": "ibIGXNzQsQ-A"
   },
   "source": [
    "#### Q31. Hangman (part 2/3): Write the logic that asks a player to guess a letter and displays letters in the clue word that were guessed correctly. For now, let the player guess an infinite number of times until they get the entire word. As a bonus, keep track of the letters the player guessed and display a different message if the player tries to guess that letter again. Stop the game when all the letters have been guessed correctly."
   ]
  },
  {
   "cell_type": "code",
   "execution_count": null,
   "metadata": {
    "id": "CtTxF0tX9uYb"
   },
   "outputs": [],
   "source": [
    "guessed_letters = []\n",
    "correct_letters = []\n",
    "\n",
    "def guess_word(word):\n",
    "  spaces = '_'*len(word)\n",
    "\n",
    "  while spaces != word:\n",
    "    guess = input(\"Guess your letter: \").upper()\n",
    "\n",
    "    if guess in guessed_letters:\n",
    "      print(\"This letter has already been guessed ! Try a different one \")\n",
    "    \n",
    "    elif guess in word:\n",
    "      correct_letters.append(guess)\n",
    "\n",
    "      for i in range(len(word)):\n",
    "        if word[i] in correct_letters:\n",
    "          spaces = spaces[:i] + word[i] + spaces[i+1:]\n",
    "\n",
    "    else:\n",
    "      print(\"Incorrect letter :( Please try again !\")\n",
    "    \n",
    "    guessed_letters.append(guess)\n",
    "    print(\" \".join(spaces))\n",
    "\n",
    "  print(\"Congrats, you've guessed it correctly !\")\n",
    "  print(\"Number of Guesses: \", len(guessed_letters))\n",
    "  print(\"Your guesses: \", guessed_letters)\n",
    "\n",
    "\n",
    "random_word = random.choice(all_words)\n",
    "print(\"Welcome to HANGMAN\")\n",
    "print('_ '*len(random_word))\n",
    "print(random_word)\n",
    "guess_word(random_word)"
   ]
  },
  {
   "cell_type": "markdown",
   "metadata": {
    "id": "VCGOcolPEsyS"
   },
   "source": [
    "#### Q32. Hangman (part 3/3): Real Hangman game:\n",
    "\n",
    "- Only let the user guess 6 times, and tell the user how many guesses they have left.\n",
    "\n",
    "- Keep track of the letters the user guessed. If the user guesses a letter they already guessed, don’t penalize them - let them guess again\n",
    "\n",
    "- When the player wins or loses, let them start a new game."
   ]
  },
  {
   "cell_type": "code",
   "execution_count": null,
   "metadata": {
    "id": "RVDiTW3RyXLb"
   },
   "outputs": [],
   "source": [
    "import random\n",
    "with open('hangman_words.txt', 'r') as open_file:\n",
    "    raw_words = open_file.readlines()\n",
    "\n",
    "all_words = [words.replace('\\n','') for words in raw_words]\n",
    "\n",
    "# function for guessing the word\n",
    "def guess_word(word):\n",
    "  guessed_letters = []\n",
    "  correct_letters = []\n",
    "\n",
    "  spaces = '_'*len(word)\n",
    "  incorrect_count = 6\n",
    "\n",
    "  while incorrect_count >= 1:\n",
    "    \n",
    "    guess = input(\"\\nGuess your letter: \").upper()\n",
    "\n",
    "    if guess in guessed_letters:\n",
    "      print(\"This letter has already been guessed ! Try a different one \")\n",
    "    \n",
    "    elif guess in word:\n",
    "      correct_letters.append(guess)\n",
    "\n",
    "      for i in range(len(word)):\n",
    "        if word[i] in correct_letters:\n",
    "          spaces = spaces[:i] + word[i] + spaces[i+1:]\n",
    "      \n",
    "      if spaces == word:\n",
    "        break\n",
    "\n",
    "    else:\n",
    "      incorrect_count -= 1\n",
    "      print(\"Incorrect letter :( Please try again !\")\n",
    "  \n",
    "    guessed_letters.append(guess)\n",
    "    if incorrect_count == 0:\n",
    "      break\n",
    "    print(\"\\nYou have {} incorrect guesses left !\".format(incorrect_count))\n",
    "  \n",
    "    print(\" \".join(spaces))\n",
    "  return spaces\n",
    "\n",
    "quit = 'n'\n",
    "\n",
    "while quit == 'n':\n",
    "  random_word = random.choice(all_words)\n",
    "\n",
    "  print(\"\\nWelcome to HANGMAN\")\n",
    "  print('_ '*len(random_word))\n",
    "  print(random_word)\n",
    "\n",
    "  if guess_word(random_word) == random_word:\n",
    "    print(\"Congrats you guessed the word {} !\".format(random_word))\n",
    "  else:\n",
    "    print(\"Whoops :( You've exhausted your attempts !\")\n",
    "    print(\"The word was: \", random_word)\n",
    "  \n",
    "  quit = input(\"\\nDo you want to quit Hangman ? (y/n): \\n\")\n",
    "  if quit == 'y':\n",
    "    break"
   ]
  },
  {
   "cell_type": "code",
   "execution_count": null,
   "metadata": {
    "id": "9cZNwc1pKQ3M"
   },
   "outputs": [],
   "source": [
    "# # side project: Takes a word, and returns the index values of the characters in the string\n",
    "# word = 'ABBCA'\n",
    "# guess_list = ['A', 'B', 'C', 'D']\n",
    "# # create a dictionary to store the correct letters and their index value(s) in the word\n",
    "# guess_dict = {} # {'character': [index]}\n",
    "\n",
    "# for guess in guess_list:\n",
    "#   guess_dict[guess] = [index for index in range(len(word)) if word.startswith(guess, index)]\n",
    "\n",
    "# print(guess_dict)"
   ]
  },
  {
   "cell_type": "markdown",
   "metadata": {
    "id": "Q99qX7zj4u7A"
   },
   "source": [
    "#### Q33: Birthday Data (part 1/4): Create a dictionary of names and birthdays. Print the names in the dictionary first and then ask the user to enter a name; then return the birthday of that person back to them"
   ]
  },
  {
   "cell_type": "code",
   "execution_count": 24,
   "metadata": {
    "id": "F4MrSFKR4un-"
   },
   "outputs": [
    {
     "name": "stdout",
     "output_type": "stream",
     "text": [
      "We know the birthdays of :\n",
      "A B C D E \n",
      "Who's birthday do you want to look up?\n",
      "c\n",
      "C's birthday is 23/02/1970\n"
     ]
    }
   ],
   "source": [
    "bday_dict = {\n",
    "    \"A\": '01/07/1987',\n",
    "    \"B\": '04/08/2007',\n",
    "    \"C\": '23/02/1970',\n",
    "    \"D\": '19/11/2023',\n",
    "    \"E\": '30/01/1990'\n",
    "}\n",
    "\n",
    "print(\"We know the birthdays of :\")\n",
    "for name in bday_dict:\n",
    "    print(name, end=' ')\n",
    "\n",
    "bday_name = input(\"\\nWho's birthday do you want to look up?\\n\")\n",
    "print(\"{}'s birthday is {}\".format(bday_name.upper(), bday_dict[bday_name.upper()]))"
   ]
  },
  {
   "cell_type": "markdown",
   "metadata": {
    "id": "TgOB1sUzBiHN"
   },
   "source": [
    "#### Q34. Birthday Data (part 2/4): Load the birthday dictionary from a JSON file on disk. Ask the user for another scientist’s name and birthday to add to the dictionary, and update the JSON file you have on disk with the scientist’s name. If you run the program multiple times and keep adding new names, your JSON file should keep getting bigger and bigger."
   ]
  },
  {
   "cell_type": "code",
   "execution_count": null,
   "metadata": {
    "id": "wWyOZG09tK7n"
   },
   "outputs": [],
   "source": [
    "import json\n",
    "\n",
    "def save_as_json(json_name, dict_name):\n",
    "  # specify file name to be saved as...\n",
    "  with open(json_name, \"w\") as f:\n",
    "    json.dump(dict_name, f)\n",
    "\n",
    "# Note: JSON won’t remember the name of the variable you saved your dictionary in\n",
    "\n",
    "def load_json(json_name):\n",
    "  with open(json_name, \"r\") as f:\n",
    "    info = json.load(f)\n",
    "  return info\n",
    "\n",
    "# json file\n",
    "json_name = \"bday_database.json\"\n",
    "\n",
    "add_name = 'y'\n",
    "\n",
    "while add_name == 'y':\n",
    "  \n",
    "  print(\"Birthday Database: \")\n",
    "  print(json.dumps(load_json(json_name), indent=2))\n",
    "\n",
    "  add_name = input(\"Do you wish to add a new name (y/n)?\")\n",
    "  if add_name == 'n':\n",
    "    break\n",
    "  \n",
    "  bday_dict = load_json(json_name) # returns the dict\n",
    "\n",
    "  new_name = input(\"Enter a name: \\n\")\n",
    "  bday = input(\"Enter age in the form dd/mm/yyyy (with slashes): \\n\")\n",
    "  bday_dict[new_name] = bday\n",
    "\n",
    "  save_as_json(json_name,bday_dict)"
   ]
  },
  {
   "cell_type": "markdown",
   "metadata": {
    "id": "EWHiTrtTKr6L"
   },
   "source": [
    "#### Q35: Birthday Data (part 3/4): Load that JSON file from disk, extract the months of all the birthdays, and count how many scientists have a birthday in each month (Hint: Import counter module from collections library)"
   ]
  },
  {
   "cell_type": "code",
   "execution_count": null,
   "metadata": {
    "id": "ejEW-Wp1DOme"
   },
   "outputs": [],
   "source": [
    "from collections import Counter\n",
    "\n",
    "# json file\n",
    "json_name = \"bday_database.json\"\n",
    "\n",
    "# month names\n",
    "months = ['Jan', 'Feb', 'March', 'April', 'May', 'June', 'July', 'Aug', 'Sep', 'Oct', 'Nov', 'Dec']\n",
    "\n",
    "# store the dict\n",
    "bday_dict = load_json(json_name)\n",
    "\n",
    "def get_months(dict_name):\n",
    "  # gets the birthdates from the dictionary\n",
    "  date_list = [dict_name[name] for name in dict_name]\n",
    "\n",
    "  # gets the month numbers from the dates\n",
    "  month_num_list = [int(date.split('/')[1]) for date in date_list]\n",
    "\n",
    "  # converts month numbers to month names\n",
    "  month_name_list = [months[month_num-1] for month_num in month_num_list]\n",
    "\n",
    "  return month_name_list\n",
    "\n",
    "num_of_bdays_per_month = dict(Counter(get_months(bday_dict)))\n",
    "print(num_of_bdays_per_month)"
   ]
  },
  {
   "cell_type": "markdown",
   "metadata": {
    "id": "QUEUDO17UDOq"
   },
   "source": [
    "#### Q36. Birthday Data (part 4/4): Use the bokeh Python library to plot a histogram of which months the scientists have birthdays in "
   ]
  },
  {
   "cell_type": "code",
   "execution_count": null,
   "metadata": {
    "id": "0j3Y1hcnNFTR"
   },
   "outputs": [],
   "source": [
    "import bokeh.io\n",
    "from bokeh.plotting import figure, show, output_file\n",
    "\n",
    "# Enable viewing Bokeh plots in the notebook\n",
    "bokeh.io.output_notebook()\n",
    "\n",
    "def bokeh_hist_plot(data_dict):\n",
    "  html_file = input(\"Output Filename: \\n\") + \".html\"\n",
    "\n",
    "  # specify an output file\n",
    "  output_file(html_file)\n",
    "\n",
    "  # load our x (keys in the dict) and y (corresponding values in the dict) data\n",
    "  x = [month for month in data_dict]\n",
    "  y = [data_dict[month] for month in data_dict]\n",
    "\n",
    "  # create a figure\n",
    "  months = ['Jan', 'Feb', 'March', 'April', 'May', 'June', 'July', 'Aug', 'Sep', 'Oct', 'Nov', 'Dec']\n",
    "  p = figure(x_range=months)\n",
    "\n",
    "  # create a histogram\n",
    "  p.vbar(x=x, top=y, width=0.5)\n",
    "\n",
    "  # render (show) the plot\n",
    "  show(p)\n",
    "\n",
    "bokeh_hist_plot(num_of_bdays_per_month)"
   ]
  },
  {
   "cell_type": "markdown",
   "metadata": {
    "id": "aRwydP5OYxKI"
   },
   "source": [
    "#### Q37. Refactor the following print pattern using functions where generating an 8x8 or a 19x19 grid is a single change to a function call!"
   ]
  },
  {
   "cell_type": "code",
   "execution_count": null,
   "metadata": {
    "id": "0dfEryHtPLvq"
   },
   "outputs": [],
   "source": [
    "# print(\" --- --- ---\")\n",
    "# print(\"|   |   |   |\")\n",
    "# print(\" --- --- ---\")\n",
    "# print(\"|   |   |   |\")\n",
    "# print(\" --- --- ---\")\n",
    "# print(\"|   |   |   |\")\n",
    "# print(\" --- --- ---\")\n",
    "\n",
    "def draw_pattern(rows):\n",
    "    pattern = \"\"\n",
    "    for i in range(2*rows+1):\n",
    "        # switch between printing vertical and horizontal bars\n",
    "        if i % 2 == 0:\n",
    "            pattern += \" ---\" * (rows)\n",
    "        else:\n",
    "            pattern += \"|   \" * (rows+1)\n",
    "        pattern += \"\\n\"\n",
    "\n",
    "    print(pattern)\n",
    "\n",
    "draw_pattern(3)"
   ]
  },
  {
   "cell_type": "markdown",
   "metadata": {
    "id": "hOh67u3Waw6Q"
   },
   "source": [
    "#### Q38. Create a program that asks the user to enter their name and their age. Print out a message addressed to them that tells them the year that they will turn 100 years old ----> except use f-strings instead of the + operator to print the resulting output message"
   ]
  },
  {
   "cell_type": "code",
   "execution_count": null,
   "metadata": {
    "id": "kBrtdsUSaDBb"
   },
   "outputs": [],
   "source": [
    "from datetime import date\n",
    "\n",
    "current_year = date.today().year\n",
    "\n",
    "name = input(\"Enter your name:\\n\")\n",
    "age = int(input(\"Enter your age:\\n\"))\n",
    "\n",
    "print(f\"{name} you will turn 100 years old in {current_year + (100-age)} !\")\n",
    "\n",
    "\n",
    "\n",
    "\n"
   ]
  },
  {
   "cell_type": "code",
   "execution_count": null,
   "metadata": {},
   "outputs": [],
   "source": []
  }
 ],
 "metadata": {
  "colab": {
   "collapsed_sections": [],
   "name": "practicepython_kamlesh",
   "provenance": []
  },
  "kernelspec": {
   "display_name": "Python 3 (ipykernel)",
   "language": "python",
   "name": "python3"
  },
  "language_info": {
   "codemirror_mode": {
    "name": "ipython",
    "version": 3
   },
   "file_extension": ".py",
   "mimetype": "text/x-python",
   "name": "python",
   "nbconvert_exporter": "python",
   "pygments_lexer": "ipython3",
   "version": "3.9.7"
  }
 },
 "nbformat": 4,
 "nbformat_minor": 1
}
